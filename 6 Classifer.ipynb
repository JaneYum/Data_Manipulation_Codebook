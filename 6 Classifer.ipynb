{
 "cells": [
  {
   "cell_type": "markdown",
   "metadata": {},
   "source": [
    "# Homework 6: Classification"
   ]
  },
  {
   "cell_type": "markdown",
   "metadata": {
    "colab_type": "text",
    "id": "HiF5779SXEsY",
    "outputExpanded": false
   },
   "source": [
    "## The total score for this assignment will be 100 points, consisting of:\n",
    "- 10 pt: Overall quality of spelling, grammar, puctuation, etc. of written sentences.\n",
    "- 10 pt: Codes are written in [PEP 8](https://www.python.org/dev/peps/pep-0008/) style.\n",
    "- 80 pt: Homework questions. "
   ]
  },
  {
   "cell_type": "markdown",
   "metadata": {},
   "source": [
    "This homework assignment is very similar to the in-class lab exercise that you completed this week.\n"
   ]
  },
  {
   "cell_type": "markdown",
   "metadata": {},
   "source": [
    "The dataset is from the \"Malicious and Benign Websites\" Kaggle project at https://www.kaggle.com/xwolf12/malicious-and-benign-websites/home (you'll need to go to that URL to get a full description of the data).\n",
    "\n",
    "From the overview:\n",
    "\n",
    "> The project consisted to evaluate different classification models to predict malicious and benign websites, based on application layer and network characteristics. The data were obtained by using different verified sources of benign and malicious URL's, in a low interactive client honeypot to isolate network traffic. We used additional tools to get other information, such as, server country with Whois."
   ]
  },
  {
   "cell_type": "markdown",
   "metadata": {},
   "source": [
    "Your task is to build the best classifier you can, choosing from either Random Forests or Naive Bayes classifiers (i.e. no XGBoost, SVM, Logistic Regression, etc.).\n",
    "\n",
    "We have provided training and testing datasets for you to use, that way you're not going to introduce the problem of random sampling when you test your models."
   ]
  },
  {
   "cell_type": "markdown",
   "metadata": {},
   "source": [
    "1. Build both Random Forest (10 points) and Naive Bayes (10 points) classifiers to predict the TYPE variable.\n",
    "\n",
    "2. Experiment with changing the number of \"folds\" in your cross-validator for your Random Forest classifiers (10 points).\n",
    "\n",
    "3. Tune your Random Forest model by varying hyperparamters (15 points).\n",
    "\n",
    "3. Experiment with setting the appropriate values for *priors* in the Naive Bayes model (the priors should correspond to the proportions of the TYPE values) (10 points).\n",
    "\n",
    "4. Report the most important feature(s) based on your Random Forest classifier (10 points).\n",
    "\n",
    "5. Summarize your findings, including which classifier and paramters gave you the best results and include an in-depth explanation of how you might improve your results.  You should also investigate what the different fields mean, so you'll need to do some research about websites and internet protocols! (15 points)\n"
   ]
  },
  {
   "cell_type": "code",
   "execution_count": 1,
   "metadata": {},
   "outputs": [],
   "source": [
    "MY_UNIQNAME = 'yuqin'"
   ]
  },
  {
   "cell_type": "code",
   "execution_count": 2,
   "metadata": {},
   "outputs": [
    {
     "name": "stderr",
     "output_type": "stream",
     "text": [
      "/Users/Apple/anaconda3/lib/python3.6/site-packages/sklearn/ensemble/weight_boosting.py:29: DeprecationWarning: numpy.core.umath_tests is an internal NumPy module and should not be imported. It will be removed in a future NumPy release.\n",
      "  from numpy.core.umath_tests import inner1d\n"
     ]
    }
   ],
   "source": [
    "import numpy as np\n",
    "import pandas as pd\n",
    "import scipy as sp\n",
    "import sklearn as sk\n",
    "from sklearn.model_selection import train_test_split\n",
    "from sklearn.model_selection import cross_val_score\n",
    "import sklearn.ensemble as skens\n",
    "import sklearn.metrics as skmetric\n",
    "import sklearn.naive_bayes as sknb\n",
    "import sklearn.tree as sktree\n",
    "import matplotlib.pyplot as plt\n",
    "%matplotlib inline\n",
    "import seaborn as sns\n",
    "sns.set(style='white', color_codes=True, font_scale=1.3)\n",
    "import sklearn.externals.six as sksix\n",
    "import IPython.display as ipd\n",
    "from sklearn.model_selection import cross_val_score\n",
    "from sklearn import metrics\n",
    "import os\n",
    "from sklearn.metrics import accuracy_score, precision_score, recall_score, f1_score\n",
    "\n",
    "# Filter all warnings.\n",
    "import warnings\n",
    "warnings.filterwarnings('ignore')"
   ]
  },
  {
   "cell_type": "markdown",
   "metadata": {},
   "source": [
    "## Prepare the dataset\n",
    "1. Non-number features can work as input\n",
    "2. get an overview of the features and label\n",
    "3. Deal with null value\n",
    "4. Seperate classes\n",
    "5. Scale the value of each feature - (I encountered the error like out of range)"
   ]
  },
  {
   "cell_type": "code",
   "execution_count": 3,
   "metadata": {},
   "outputs": [],
   "source": [
    "df_mb = pd.read_csv('malicious_and_benign.csv')\n",
    "df_mb_test = pd.read_csv('malicious_and_benign_test.csv')\n",
    "# get an overview of the features and label\n",
    "# df_mb.head(5)"
   ]
  },
  {
   "cell_type": "code",
   "execution_count": 4,
   "metadata": {},
   "outputs": [],
   "source": [
    "# Deal with the null value reference: https://www.kaggle.com/shikhar14cse/learning-model-using-sklearn\n",
    "\n",
    "# print(df_mb.isnull().sum().sum())\n",
    "no_null = 812\n",
    "avg = df_mb.CONTENT_LENGTH.sum() / (len(df_mb) - 812)\n",
    "df_mb.loc[df_mb['CONTENT_LENGTH'].isnull(), 'CONTENT_LENGTH'] = avg\n",
    "df_mb = df_mb.dropna()\n",
    "\n",
    "# print(df_mb_test.isnull().sum().sum())\n",
    "avg = df_mb_test.CONTENT_LENGTH.sum() / (len(df_mb_test) - 165)\n",
    "df_mb_test.loc[df_mb_test['CONTENT_LENGTH'].isnull(), 'CONTENT_LENGTH'] = avg\n",
    "df_mb_test = df_mb_test.dropna()"
   ]
  },
  {
   "cell_type": "code",
   "execution_count": 5,
   "metadata": {},
   "outputs": [],
   "source": [
    "del df_mb['URL']\n",
    "del df_mb['WHOIS_REGDATE']\n",
    "del df_mb['WHOIS_UPDATED_DATE']\n",
    "del df_mb_test['URL']\n",
    "del df_mb_test['WHOIS_REGDATE']\n",
    "del df_mb_test['WHOIS_UPDATED_DATE']"
   ]
  },
  {
   "cell_type": "code",
   "execution_count": 6,
   "metadata": {},
   "outputs": [],
   "source": [
    "# for the failure of converting string to float\n",
    "from sklearn import preprocessing\n",
    "le = preprocessing.LabelEncoder()\n",
    "\n",
    "df_mb['CHARSET'] = le.fit_transform(df_mb['CHARSET'])\n",
    "df_mb['SERVER'] = le.fit_transform(df_mb['SERVER'])\n",
    "df_mb['WHOIS_COUNTRY'] = le.fit_transform(df_mb['WHOIS_COUNTRY'])\n",
    "df_mb['WHOIS_STATEPRO'] = le.fit_transform(df_mb['WHOIS_STATEPRO'])\n",
    "\n",
    "df_mb_test['CHARSET'] = le.fit_transform(df_mb_test['CHARSET'])\n",
    "df_mb_test['SERVER'] = le.fit_transform(df_mb_test['SERVER'])\n",
    "df_mb_test['WHOIS_COUNTRY'] = le.fit_transform(df_mb_test['WHOIS_COUNTRY'])\n",
    "df_mb_test['WHOIS_STATEPRO'] = le.fit_transform(df_mb_test['WHOIS_STATEPRO'])"
   ]
  },
  {
   "cell_type": "code",
   "execution_count": 7,
   "metadata": {},
   "outputs": [],
   "source": [
    "# get the dataframe columns in the format of array\n",
    "columns = df_mb.columns.values\n",
    "\n",
    "# Scale the value of each feature - (I encountered the error like out of range)\n",
    "from sklearn.preprocessing import MinMaxScaler\n",
    "scaler = MinMaxScaler(feature_range=(0, 1))\n",
    "df_mb_scaled = scaler.fit_transform(df_mb.ix[:,:-1])\n",
    "df_mb_scaled = pd.DataFrame(data=df_mb_scaled,columns=columns[:-1])\n",
    "df_mb_scaled['Type'] = df_mb['Type']\n",
    "\n",
    "# print(df_mb_scaled.isnull().sum().sum())\n",
    "avg = df_mb_scaled.CONTENT_LENGTH.sum() / (len(df_mb_scaled))\n",
    "df_mb_scaled.loc[df_mb_scaled['CONTENT_LENGTH'].isnull(), 'CONTENT_LENGTH'] = avg\n",
    "df_mb_scaled = df_mb_scaled.dropna()\n",
    "\n",
    "df_mb_test_scaled = scaler.fit_transform(df_mb_test.ix[:,:-1])\n",
    "df_mb_test_scaled = pd.DataFrame(data=df_mb_test_scaled,columns=columns[:-1])\n",
    "df_mb_test_scaled['Type'] = df_mb_test['Type']\n",
    "# print(df_mb_test_scaled.isnull().sum().sum())"
   ]
  },
  {
   "cell_type": "markdown",
   "metadata": {},
   "source": [
    "## Train the Classifer for the dataset\n",
    "1. train_test_split\n",
    "2. pick classifers\n",
    "3. define the specific objective, classes and features for each classifer\n",
    "4. train the model"
   ]
  },
  {
   "cell_type": "code",
   "execution_count": 8,
   "metadata": {},
   "outputs": [],
   "source": [
    "df_mb_train,df_mb_validation = train_test_split(df_mb_scaled, test_size=0.3)"
   ]
  },
  {
   "cell_type": "markdown",
   "metadata": {},
   "source": [
    "### 1️⃣ Random Forest\n",
    "* Objective: predict which type a website belongs to - Malicious or Benign.\n",
    "* Possible classes: \"Malicious\" = 1, \"Benign\" = 2\n",
    "* Features: all features\n",
    "* Process: \n",
    "    * changing the number of \"folds\" in your cross-validator\n",
    "    * report the most important features\n",
    "    * Find the best parameters"
   ]
  },
  {
   "cell_type": "markdown",
   "metadata": {},
   "source": [
    "#### 1. changing the number of \"folds\" in your cross-validator and report the most important features"
   ]
  },
  {
   "cell_type": "code",
   "execution_count": 20,
   "metadata": {},
   "outputs": [
    {
     "name": "stdout",
     "output_type": "stream",
     "text": [
      "For validation dataset:  0.9363295880149812\n",
      "For test dataset:  0.8683473389355743\n"
     ]
    }
   ],
   "source": [
    "# fold = 10\n",
    "rf_model_10 = skens.RandomForestClassifier(n_estimators=10,oob_score=True, criterion='entropy')\n",
    "rf_model_10.fit(df_mb_train.ix[:,:-1],df_mb_train.Type)\n",
    "\n",
    "print(\"For validation dataset: \", rf_model_10.score(df_mb_validation.ix[:,:-1], df_mb_validation.Type))\n",
    "print(\"For test dataset: \", rf_model_10.score(df_mb_test_scaled.ix[:,:-1], df_mb_test_scaled.Type))"
   ]
  },
  {
   "cell_type": "code",
   "execution_count": 17,
   "metadata": {},
   "outputs": [
    {
     "name": "stdout",
     "output_type": "stream",
     "text": [
      "For validation dataset:  0.9438202247191011\n",
      "For test dataset:  0.8627450980392157\n"
     ]
    }
   ],
   "source": [
    "# fold = 100\n",
    "rf_model_100 = skens.RandomForestClassifier(n_estimators=100,oob_score=True, criterion='entropy')\n",
    "rf_model_100.fit(df_mb_train.ix[:,:-1],df_mb_train.Type)\n",
    "\n",
    "print(\"For validation dataset: \", rf_model_100.score(df_mb_validation.ix[:,:-1], df_mb_validation.Type))\n",
    "print(\"For test dataset: \", rf_model_100.score(df_mb_test_scaled.ix[:,:-1], df_mb_test_scaled.Type))"
   ]
  },
  {
   "cell_type": "code",
   "execution_count": 18,
   "metadata": {},
   "outputs": [
    {
     "name": "stdout",
     "output_type": "stream",
     "text": [
      "For validation dataset:  0.9363295880149812\n",
      "For test dataset:  0.8599439775910365\n"
     ]
    }
   ],
   "source": [
    "# fold = 50\n",
    "rf_model_50 = skens.RandomForestClassifier(n_estimators=50,oob_score=True, criterion='entropy')\n",
    "rf_model_50.fit(df_mb_train.ix[:,:-1],df_mb_train.Type)\n",
    "\n",
    "print(\"For validation dataset: \", rf_model_50.score(df_mb_validation.ix[:,:-1], df_mb_validation.Type))\n",
    "print(\"For test dataset: \", rf_model_50.score(df_mb_test_scaled.ix[:,:-1], df_mb_test_scaled.Type))"
   ]
  },
  {
   "cell_type": "code",
   "execution_count": 24,
   "metadata": {},
   "outputs": [
    {
     "data": {
      "text/plain": [
       "<matplotlib.axes._subplots.AxesSubplot at 0x1a1cf992e8>"
      ]
     },
     "execution_count": 24,
     "metadata": {},
     "output_type": "execute_result"
    },
    {
     "data": {
      "image/png": "[encoded data removed]",
      "text/plain": [
       "<Figure size 432x288 with 1 Axes>"
      ]
     },
     "metadata": {},
     "output_type": "display_data"
    }
   ],
   "source": [
    "feat_importance_10 = rf_model_10.feature_importances_\n",
    "pd.DataFrame({'Feature Importance':feat_importance},\n",
    "            index=df_mb_train.columns[:-1]).plot(kind='barh')"
   ]
  },
  {
   "cell_type": "code",
   "execution_count": 22,
   "metadata": {},
   "outputs": [
    {
     "data": {
      "text/plain": [
       "<matplotlib.axes._subplots.AxesSubplot at 0x1a1cb0e828>"
      ]
     },
     "execution_count": 22,
     "metadata": {},
     "output_type": "execute_result"
    },
    {
     "data": {
      "image/png": "[encoded data removed]",
      "text/plain": [
       "<Figure size 432x288 with 1 Axes>"
      ]
     },
     "metadata": {},
     "output_type": "display_data"
    }
   ],
   "source": [
    "feat_importance_100 = rf_model_100.feature_importances_\n",
    "pd.DataFrame({'Feature Importance':feat_importance},\n",
    "            index=df_mb_train.columns[:-1]).plot(kind='barh')"
   ]
  },
  {
   "cell_type": "code",
   "execution_count": 23,
   "metadata": {},
   "outputs": [
    {
     "data": {
      "text/plain": [
       "<matplotlib.axes._subplots.AxesSubplot at 0x1a1cae9be0>"
      ]
     },
     "execution_count": 23,
     "metadata": {},
     "output_type": "execute_result"
    },
    {
     "data": {
      "image/png": "[encoded data removed]",
      "text/plain": [
       "<Figure size 432x288 with 1 Axes>"
      ]
     },
     "metadata": {},
     "output_type": "display_data"
    }
   ],
   "source": [
    "feat_importance_100 = rf_model_50.feature_importances_\n",
    "pd.DataFrame({'Feature Importance':feat_importance},\n",
    "            index=df_mb_train.columns[:-1]).plot(kind='barh')"
   ]
  },
  {
   "cell_type": "markdown",
   "metadata": {},
   "source": [
    "### Explain:\n",
    "Experiment with changing the number of \"folds\" in your cross-validator for your Random Forest classifiers (10 points).\n",
    "\n",
    "Report the most important feature(s) based on your Random Forest classifier (10 points).\n",
    "\n",
    "* When changing the folds to 10, 50, 100, I found there is no change on the most important feature, which is URL_LENGTH.\n",
    "* I have splited one validation dataset for selecting the best models while keeping the test dataset seperate to reduce overfitting.\n",
    "* I found that the accuracy score for the validation dataset is high while the score is relatively low for the test dataset. For validation dataset:  0.9438202247191011, For test dataset:  0.8627450980392157. \n",
    "* This may indicate potential overfitting model."
   ]
  },
  {
   "cell_type": "markdown",
   "metadata": {},
   "source": [
    "#### 2. Find the best parameters"
   ]
  },
  {
   "cell_type": "markdown",
   "metadata": {},
   "source": [
    "Tune your Random Forest model by varying hyperparamters (15 points)."
   ]
  },
  {
   "cell_type": "code",
   "execution_count": 27,
   "metadata": {},
   "outputs": [
    {
     "name": "stdout",
     "output_type": "stream",
     "text": [
      "RandomForestClassifier(bootstrap=True, class_weight=None, criterion='gini',\n",
      "            max_depth=19, max_features='auto', max_leaf_nodes=None,\n",
      "            min_impurity_decrease=0.0, min_impurity_split=None,\n",
      "            min_samples_leaf=1, min_samples_split=2,\n",
      "            min_weight_fraction_leaf=0.0, n_estimators=20, n_jobs=1,\n",
      "            oob_score=False, random_state=None, verbose=0,\n",
      "            warm_start=False)\n",
      "{'max_depth': 19, 'n_estimators': 20}\n",
      "0.9283990345937249\n"
     ]
    }
   ],
   "source": [
    "# cross-validation by GridSearch\n",
    "from sklearn.model_selection import GridSearchCV\n",
    "param_grid = {\n",
    "                 'n_estimators': [5, 10, 15, 20, 25, 30, 35, 40, 45, 50,55,60,65,70,75,80],\n",
    "                 'max_depth': range(1,30)\n",
    "             }\n",
    "rf_model = skens.RandomForestClassifier()\n",
    "grid_clf = GridSearchCV(rf_model, param_grid, cv=10)\n",
    "grid_clf.fit(df_mb_train.ix[:,:-1],df_mb_train.Type)\n",
    "print(grid_clf.best_estimator_)\n",
    "print(grid_clf.best_params_)\n",
    "print(grid_clf.best_score_)"
   ]
  },
  {
   "cell_type": "code",
   "execution_count": 73,
   "metadata": {},
   "outputs": [
    {
     "name": "stdout",
     "output_type": "stream",
     "text": [
      "For validation dataset:  0.9419475655430711\n",
      "For test dataset:  0.8599439775910365\n"
     ]
    }
   ],
   "source": [
    "rf_model_best = skens.RandomForestClassifier(max_depth = 19, n_estimators=20,oob_score=True, criterion='entropy')\n",
    "rf_model_best.fit(df_mb_train.ix[:,:-1],df_mb_train.Type)\n",
    "\n",
    "print(\"For validation dataset: \", rf_model_best.score(df_mb_validation.ix[:,:-1], df_mb_validation.Type))\n",
    "print(\"For test dataset: \", rf_model_best.score(df_mb_test_scaled.ix[:,:-1], df_mb_test_scaled.Type))"
   ]
  },
  {
   "cell_type": "markdown",
   "metadata": {},
   "source": [
    "### 2️⃣Naive Bayes\n",
    "Experiment with setting the appropriate values for priors in the Naive Bayes model (the priors should correspond to the proportions of the TYPE values) (10 points).\n",
    "\n",
    "Build Naive Bayes classifiers to predict the TYPE variable. (10 points) \n",
    "\n",
    "* My Goal: predict the TYPE of the website. \n",
    "* What features I gonna use?\n",
    "* What class I want to predict?\n"
   ]
  },
  {
   "cell_type": "markdown",
   "metadata": {},
   "source": [
    "#### 1. If I used all features to do the prediction. The result is awful"
   ]
  },
  {
   "cell_type": "code",
   "execution_count": 31,
   "metadata": {},
   "outputs": [
    {
     "name": "stdout",
     "output_type": "stream",
     "text": [
      "For validation dataset:  0.5917602996254682\n",
      "For test dataset:  0.7815126050420168\n"
     ]
    }
   ],
   "source": [
    "# train the model\n",
    "gnb_model = sknb.GaussianNB()\n",
    "gnb_model.fit(df_mb_train.ix[:,:-1],df_mb_train.Type)\n",
    "print(\"For validation dataset: \", gnb_model.score(df_mb_validation.ix[:,:-1], df_mb_validation.Type))\n",
    "print(\"For test dataset: \", gnb_model.score(df_mb_test_scaled.ix[:,:-1], df_mb_test_scaled.Type))"
   ]
  },
  {
   "cell_type": "markdown",
   "metadata": {},
   "source": [
    "#### 2. If I use the most important feature to do the prediction? much better! worse than Random tree, but close."
   ]
  },
  {
   "cell_type": "code",
   "execution_count": 49,
   "metadata": {},
   "outputs": [
    {
     "name": "stdout",
     "output_type": "stream",
     "text": [
      "For validation dataset:  0.8782771535580525\n",
      "For test dataset:  0.8515406162464986\n"
     ]
    }
   ],
   "source": [
    "# most important feature is URL_Length\n",
    "gnb_model_mf = sknb.GaussianNB()\n",
    "gnb_model_mf.fit(df_mb_train[['URL_LENGTH']],df_mb_train.Type)\n",
    "print(\"For validation dataset: \", gnb_model_mf.score(df_mb_validation[['URL_LENGTH']], df_mb_validation.Type))\n",
    "print(\"For test dataset: \", gnb_model_mf.score(df_mb_test_scaled[['URL_LENGTH']], df_mb_test_scaled.Type))"
   ]
  },
  {
   "cell_type": "markdown",
   "metadata": {},
   "source": [
    "#### 3. If I use the top 2 or top 4 or top 6 important features to do the prediction? Not better than the result of the top one feature's prediction. Interesting!"
   ]
  },
  {
   "cell_type": "code",
   "execution_count": 42,
   "metadata": {},
   "outputs": [
    {
     "name": "stdout",
     "output_type": "stream",
     "text": [
      "For validation dataset:  0.8707865168539326\n",
      "For test dataset:  0.8319327731092437\n"
     ]
    }
   ],
   "source": [
    "# Top 2 important features are SOURCE_APP_BYTES and URL_LENGTH\n",
    "toptwo = ['URL_LENGTH','SOURCE_APP_BYTES']\n",
    "gnb_model_t2 = sknb.GaussianNB()\n",
    "gnb_model_t2.fit(df_mb_train[toptwo],df_mb_train.Type)\n",
    "print(\"For validation dataset: \", gnb_model_t2.score(df_mb_validation[toptwo], df_mb_validation.Type))\n",
    "print(\"For test dataset: \", gnb_model_t2.score(df_mb_test_scaled[toptwo], df_mb_test_scaled.Type))"
   ]
  },
  {
   "cell_type": "code",
   "execution_count": 38,
   "metadata": {},
   "outputs": [
    {
     "data": {
      "text/plain": [
       "array(['URL_LENGTH', 'NUMBER_SPECIAL_CHARACTERS', 'CHARSET', 'SERVER',\n",
       "       'CONTENT_LENGTH', 'WHOIS_COUNTRY', 'WHOIS_STATEPRO',\n",
       "       'TCP_CONVERSATION_EXCHANGE', 'DIST_REMOTE_TCP_PORT', 'REMOTE_IPS',\n",
       "       'APP_BYTES', 'SOURCE_APP_PACKETS', 'REMOTE_APP_PACKETS',\n",
       "       'SOURCE_APP_BYTES', 'REMOTE_APP_BYTES', 'APP_PACKETS',\n",
       "       'DNS_QUERY_TIMES', 'Type'], dtype=object)"
      ]
     },
     "execution_count": 38,
     "metadata": {},
     "output_type": "execute_result"
    }
   ],
   "source": [
    "columns"
   ]
  },
  {
   "cell_type": "code",
   "execution_count": 43,
   "metadata": {},
   "outputs": [
    {
     "name": "stdout",
     "output_type": "stream",
     "text": [
      "For validation dataset:  0.8576779026217228\n",
      "For test dataset:  0.7563025210084033\n"
     ]
    }
   ],
   "source": [
    "# Top 4 important features are SOURCE_APP_BYTES and URL_LENGTH\n",
    "topfour = ['URL_LENGTH', 'SOURCE_APP_BYTES', 'NUMBER_SPECIAL_CHARACTERS', 'CONTENT_LENGTH']\n",
    "gnb_model_t4 = sknb.GaussianNB()\n",
    "gnb_model_t4.fit(df_mb_train[topfour],df_mb_train.Type)\n",
    "print(\"For validation dataset: \", gnb_model_t4.score(df_mb_validation[topfour], df_mb_validation.Type))\n",
    "print(\"For test dataset: \", gnb_model_t4.score(df_mb_test_scaled[topfour], df_mb_test_scaled.Type))"
   ]
  },
  {
   "cell_type": "code",
   "execution_count": 50,
   "metadata": {},
   "outputs": [
    {
     "name": "stdout",
     "output_type": "stream",
     "text": [
      "For validation dataset:  0.848314606741573\n",
      "For test dataset:  0.7450980392156863\n"
     ]
    }
   ],
   "source": [
    "# Top 6 important features are SOURCE_APP_BYTES and URL_LENGTH\n",
    "topsix = ['URL_LENGTH', 'SOURCE_APP_BYTES', 'NUMBER_SPECIAL_CHARACTERS', 'CONTENT_LENGTH','DIST_REMOTE_TCP_PORT','REMOTE_APP_PACKETS']\n",
    "gnb_model_t6 = sknb.GaussianNB()\n",
    "gnb_model_t6.fit(df_mb_train[topsix],df_mb_train.Type)\n",
    "print(\"For validation dataset: \", gnb_model_t6.score(df_mb_validation[topsix], df_mb_validation.Type))\n",
    "print(\"For test dataset: \", gnb_model_t6.score(df_mb_test_scaled[topsix], df_mb_test_scaled.Type))\n"
   ]
  },
  {
   "cell_type": "markdown",
   "metadata": {},
   "source": [
    "### Summarize:\n",
    "Summarize your findings, including which classifier and paramters gave you the best results and include an in-depth explanation of how you might improve your results. You should also investigate what the different fields mean, so you'll need to do some research about websites and internet protocols! (15 points)\n",
    "\n",
    "* I have splited one validation dataset for selecting the best models while keeping the test dataset seperate to reduce overfitting.\n",
    "* Best models:\n",
    "    * The best random forest classifer I got is the model with 19 max_depth and 20 n_ estimators, which got the accuracy score for validation dataset:  0.9438202247191011 and for test dataset 0.8711484593837535.\n",
    "    * The best naive bayes classifer I got is the model trained by the most important feature - 'URL_LENGTH'. I found an interesting thing is that the more features I used to train the model, the result became worse or not better. \n",
    "    \n",
    "* From the results of the accuracy scores, we can find that random forest classifier has better performance than the Naive Bayes Classifer:\n",
    "    * However, random forest classifier has the potential to be overfitting because the accuracy score for the validation dataset is high while the score is relatively low for the test dataset. For validation dataset: 0.9438202247191011, For test dataset: 0.8627450980392157. The best naive bayes classifier tends to give me a stable prediction because it got 0.878 accuracy score for the validation dataset when the score for test dataset is 0.851, quite close. \n",
    "    \n",
    "* Explain: (do some research about websites and the internet protocols)\n",
    "    * To understand the relationship between the features and labels. I digged deeper about the mechnisms of how we access to a website and how this website could affect my computer. \n",
    "    * Basically, we access a website through its Uniform Resource Locators (URLs), which consists of the following standard syntax:\n",
    "    <protocol>://<hostname><path>\n",
    "    * For the protocol, HTTP is the most popular one.\n",
    "    * Path indicates how to locate the files and access to it. In the path, we might use many tokens such as slashes, dots, and dashes, which shows how the site is organized. Based one the paper *Learning to Detect Malicious URLs* \"criminals sometimes obscure path tokens to avoid scrutiny, or they may deliberately construct tokens to mimic the appearance of a legitimate site, as in the case of phishing.\" Thus the features related with \"path\" might be not effective to predict the malicious website.\n",
    "    * The above characteristics explain a little bit about why, in the machine learning process, the following four features are top four important: \n",
    "        ['URL_LENGTH', 'SOURCE_APP_BYTES', 'NUMBER_SPECIAL_CHARACTERS', 'CONTENT_LENGTH']\n",
    "        * URL_LENGTH: it is the number of characters in the URL. \n",
    "        * NUMBER_SPECIAL_CHARACTERS: it is number of special characters identified in the URL, such as, “/”, “%”, “#”, “&”, “. “, “=”\n",
    "        * CONTENT_LENGTH: it represents the content size of the HTTP header.\n",
    "        * APP_BYTES: this is the number of bytes transfered, which may be related to how many information you can get access through visting this website and these information may have impact on my computer. \n",
    "    \n",
    "* Improvement:\n",
    "    * One improvement I can do is about feature engineering. What features we can use to descirbe the URL and a website might need to be reconsider, which might be beyond what I'm capable of. But for my assignment, I would improve the result by tring to only extract important features to train different random tree classifiers in order to reduce the overfitting. What's more, I can do some model regulations to avoid the situation when the accuracy score for the validation set is high while the score of the test set is relatively normal. \n",
    "    * I also think of trying out other classifiers, for example, Logistic Regression classifier which is suitable for the binary labeled dataset or SVM. \n",
    "\n",
    "Reference: \n",
    "* Learning to Detect Malicious URLs written by JUSTIN MA, University of California, Berkeley LAWRENCE K. SAUL, STEFAN SAVAGE and GEOFFREY M. VOELKER, University of California, San Diego\n",
    "* https://www.kaggle.com/xwolf12/malicious-and-benign-websites/home"
   ]
  }
 ],
 "metadata": {
  "kernelspec": {
   "display_name": "Python 3",
   "language": "python",
   "name": "python3"
  },
  "language_info": {
   "codemirror_mode": {
    "name": "ipython",
    "version": 3
   },
   "file_extension": ".py",
   "mimetype": "text/x-python",
   "name": "python",
   "nbconvert_exporter": "python",
   "pygments_lexer": "ipython3",
   "version": "3.6.5"
  }
 },
 "nbformat": 4,
 "nbformat_minor": 2
}
