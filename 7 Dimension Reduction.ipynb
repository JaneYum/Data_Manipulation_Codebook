{
 "cells": [
  {
   "cell_type": "markdown",
   "metadata": {
    "colab_type": "text",
    "id": "8xKUiifPp32x",
    "outputExpanded": false
   },
   "source": [
    "# Homework 7: Dimension Reduction"
   ]
  },
  {
   "cell_type": "markdown",
   "metadata": {
    "colab_type": "text",
    "id": "LQEC5QQ6qEIp",
    "outputExpanded": false
   },
   "source": [
    "## The total score for this assignment will be 100 points, consisting of:\n",
    "- 10 pt: Overall quality of spelling, grammar, puctuation, etc. of written sentences.\n",
    "- 10 pt: Codes are written in [PEP 8](https://www.python.org/dev/peps/pep-0008/) style.\n",
    "- 80 pt: Homework questions. "
   ]
  },
  {
   "cell_type": "code",
   "execution_count": 1,
   "metadata": {
    "colab": {},
    "colab_type": "code",
    "id": "5_s56570qGEG",
    "outputExpanded": false
   },
   "outputs": [],
   "source": [
    "MY_UNIQNAME = 'yuqin'"
   ]
  },
  {
   "cell_type": "markdown",
   "metadata": {
    "colab_type": "text",
    "id": "HQZneKXCpOFe",
    "outputExpanded": false
   },
   "source": [
    "# Download the data:\n",
    "For this assignment, we will be using a gene expression dataset by Golub et al. (1999).\n",
    "\n",
    "https://www.kaggle.com/crawford/gene-expression\n",
    "\n",
    ">This dataset comes from a proof-of-concept study published in 1999 by Golub et al. It showed how new cases of cancer could be classified by gene expression monitoring (via DNA microarray) and thereby provided a general approach for identifying new cancer classes and assigning tumors to known classes. These data were used to classify patients with acute myeloid leukemia (AML) and acute lymphoblastic leukemia (ALL).\n",
    "\n",
    "A Kaggle user has [shared a kernel using PCA on this dataset](https://www.kaggle.com/kanav0183/pca-analysis-for-geneclassification), which, among others, you're free to use as a reference."
   ]
  },
  {
   "cell_type": "markdown",
   "metadata": {
    "colab_type": "text",
    "id": "ths94YXrDrLh",
    "outputExpanded": false
   },
   "source": [
    "# Part 0: Loading the Data\n",
    "\n",
    "As usual, load the data and use the summary functions and plots of your choice to get a sense of the data."
   ]
  },
  {
   "cell_type": "code",
   "execution_count": 2,
   "metadata": {
    "colab": {},
    "colab_type": "code",
    "id": "2yeIL0gfpPQD",
    "outputExpanded": false
   },
   "outputs": [],
   "source": [
    "import pandas as pd\n",
    "import numpy as np\n",
    "import sklearn.manifold as skm\n",
    "import sklearn.decomposition as skd\n",
    "import sklearn.cluster as skc\n",
    "import matplotlib.pyplot as plt\n",
    "import seaborn as sns\n",
    "\n",
    "%matplotlib inline"
   ]
  },
  {
   "cell_type": "code",
   "execution_count": 3,
   "metadata": {},
   "outputs": [],
   "source": [
    "import warnings\n",
    "warnings.filterwarnings('ignore')\n",
    "sns.set_context(\"notebook\")  # make figures fit"
   ]
  },
  {
   "cell_type": "code",
   "execution_count": 4,
   "metadata": {
    "colab": {
     "base_uri": "https://localhost:8080/",
     "height": 864
    },
    "colab_type": "code",
    "executionInfo": {
     "elapsed": 237,
     "status": "error",
     "timestamp": 1541703200691,
     "user": {
      "displayName": "Sungjin Nam",
      "photoUrl": "https://lh3.googleusercontent.com/-bPC0ONeBc5c/AAAAAAAAAAI/AAAAAAAABDw/AL4XBrIvQJI/s64/photo.jpg",
      "userId": "06295554822278854914"
     },
     "user_tz": 300
    },
    "id": "7q1-uGp_8Bbw",
    "outputExpanded": false,
    "outputId": "91544364-a61c-4a37-9cfc-1e2d83b07cba"
   },
   "outputs": [],
   "source": [
    "# feel free to change the file location \n",
    "df_train = pd.read_csv(\"./data/data_set_ALL_AML_train.csv\")\n",
    "df_test = pd.read_csv(\"./data/data_set_ALL_AML_independent.csv\")\n",
    "df_label = pd.read_csv(\"./data/actual.csv\")"
   ]
  },
  {
   "cell_type": "code",
   "execution_count": 5,
   "metadata": {
    "colab": {},
    "colab_type": "code",
    "id": "hvWImK1Q8Bb0",
    "outputExpanded": false
   },
   "outputs": [],
   "source": [
    "df_train = df_train[[col for col in df_train.columns if \"call\" not in col]].T\n",
    "df_test = df_test[[col for col in df_test.columns if \"call\" not in col]].T"
   ]
  },
  {
   "cell_type": "code",
   "execution_count": 6,
   "metadata": {
    "colab": {},
    "colab_type": "code",
    "id": "qjjqNZaQ8Bb3",
    "outputExpanded": false
   },
   "outputs": [
    {
     "data": {
      "text/plain": [
       "[(40, 7129), (36, 7129)]"
      ]
     },
     "execution_count": 6,
     "metadata": {},
     "output_type": "execute_result"
    }
   ],
   "source": [
    "[df_train.shape, df_test.shape]"
   ]
  },
  {
   "cell_type": "code",
   "execution_count": 7,
   "metadata": {
    "colab": {
     "base_uri": "https://localhost:8080/",
     "height": 164
    },
    "colab_type": "code",
    "executionInfo": {
     "elapsed": 360,
     "status": "error",
     "timestamp": 1541703179895,
     "user": {
      "displayName": "Sungjin Nam",
      "photoUrl": "https://lh3.googleusercontent.com/-bPC0ONeBc5c/AAAAAAAAAAI/AAAAAAAABDw/AL4XBrIvQJI/s64/photo.jpg",
      "userId": "06295554822278854914"
     },
     "user_tz": 300
    },
    "id": "10jcCjUp8Bb_",
    "outputExpanded": false,
    "outputId": "6f778153-a8ec-4093-8c3f-e5ea3cbfb928"
   },
   "outputs": [
    {
     "data": {
      "text/plain": [
       "Index(['Gene Description', 'Gene Accession Number', '1', '2', '3', '4', '5',\n",
       "       '6', '7', '8', '9', '10', '11', '12', '13', '14', '15', '16', '17',\n",
       "       '18', '19', '20', '21', '22', '23', '24', '25', '26', '27', '34', '35',\n",
       "       '36', '37', '38', '28', '29', '30', '31', '32', '33'],\n",
       "      dtype='object')"
      ]
     },
     "execution_count": 7,
     "metadata": {},
     "output_type": "execute_result"
    }
   ],
   "source": [
    "df_train.index"
   ]
  },
  {
   "cell_type": "code",
   "execution_count": 8,
   "metadata": {
    "colab": {},
    "colab_type": "code",
    "id": "H03NnuQC8BcD",
    "outputExpanded": false
   },
   "outputs": [
    {
     "data": {
      "text/plain": [
       "Index(['Gene Description', 'Gene Accession Number', '39', '40', '42', '47',\n",
       "       '48', '49', '41', '43', '44', '45', '46', '70', '71', '72', '68', '69',\n",
       "       '67', '55', '56', '59', '52', '53', '51', '50', '54', '57', '58', '60',\n",
       "       '61', '65', '66', '63', '64', '62'],\n",
       "      dtype='object')"
      ]
     },
     "execution_count": 8,
     "metadata": {},
     "output_type": "execute_result"
    }
   ],
   "source": [
    "df_test.index"
   ]
  },
  {
   "cell_type": "code",
   "execution_count": 9,
   "metadata": {
    "colab": {
     "base_uri": "https://localhost:8080/",
     "height": 164
    },
    "colab_type": "code",
    "executionInfo": {
     "elapsed": 263,
     "status": "error",
     "timestamp": 1541703180631,
     "user": {
      "displayName": "Sungjin Nam",
      "photoUrl": "https://lh3.googleusercontent.com/-bPC0ONeBc5c/AAAAAAAAAAI/AAAAAAAABDw/AL4XBrIvQJI/s64/photo.jpg",
      "userId": "06295554822278854914"
     },
     "user_tz": 300
    },
    "id": "2uYLqCpx8BcH",
    "outputExpanded": false,
    "outputId": "9fcbe247-65d4-4bdb-adc7-e688066412ac"
   },
   "outputs": [
    {
     "data": {
      "text/html": [
       "<div>\n",
       "<style scoped>\n",
       "    .dataframe tbody tr th:only-of-type {\n",
       "        vertical-align: middle;\n",
       "    }\n",
       "\n",
       "    .dataframe tbody tr th {\n",
       "        vertical-align: top;\n",
       "    }\n",
       "\n",
       "    .dataframe thead th {\n",
       "        text-align: right;\n",
       "    }\n",
       "</style>\n",
       "<table border=\"1\" class=\"dataframe\">\n",
       "  <thead>\n",
       "    <tr style=\"text-align: right;\">\n",
       "      <th></th>\n",
       "      <th>0</th>\n",
       "      <th>1</th>\n",
       "      <th>2</th>\n",
       "      <th>3</th>\n",
       "      <th>4</th>\n",
       "      <th>5</th>\n",
       "      <th>6</th>\n",
       "      <th>7</th>\n",
       "      <th>8</th>\n",
       "      <th>9</th>\n",
       "      <th>...</th>\n",
       "      <th>7119</th>\n",
       "      <th>7120</th>\n",
       "      <th>7121</th>\n",
       "      <th>7122</th>\n",
       "      <th>7123</th>\n",
       "      <th>7124</th>\n",
       "      <th>7125</th>\n",
       "      <th>7126</th>\n",
       "      <th>7127</th>\n",
       "      <th>7128</th>\n",
       "    </tr>\n",
       "  </thead>\n",
       "  <tbody>\n",
       "    <tr>\n",
       "      <th>Gene Description</th>\n",
       "      <td>AFFX-BioB-5_at (endogenous control)</td>\n",
       "      <td>AFFX-BioB-M_at (endogenous control)</td>\n",
       "      <td>AFFX-BioB-3_at (endogenous control)</td>\n",
       "      <td>AFFX-BioC-5_at (endogenous control)</td>\n",
       "      <td>AFFX-BioC-3_at (endogenous control)</td>\n",
       "      <td>AFFX-BioDn-5_at (endogenous control)</td>\n",
       "      <td>AFFX-BioDn-3_at (endogenous control)</td>\n",
       "      <td>AFFX-CreX-5_at (endogenous control)</td>\n",
       "      <td>AFFX-CreX-3_at (endogenous control)</td>\n",
       "      <td>AFFX-BioB-5_st (endogenous control)</td>\n",
       "      <td>...</td>\n",
       "      <td>Transcription factor Stat5b (stat5b) mRNA</td>\n",
       "      <td>Breast epithelial antigen BA46 mRNA</td>\n",
       "      <td>GB DEF = Calcium/calmodulin-dependent protein ...</td>\n",
       "      <td>TUBULIN ALPHA-4 CHAIN</td>\n",
       "      <td>CYP4B1 Cytochrome P450; subfamily IVB; polypep...</td>\n",
       "      <td>PTGER3 Prostaglandin E receptor 3 (subtype EP3...</td>\n",
       "      <td>HMG2 High-mobility group (nonhistone chromosom...</td>\n",
       "      <td>RB1 Retinoblastoma 1 (including osteosarcoma)</td>\n",
       "      <td>GB DEF = Glycophorin Sta (type A) exons 3 and ...</td>\n",
       "      <td>GB DEF = mRNA (clone 1A7)</td>\n",
       "    </tr>\n",
       "    <tr>\n",
       "      <th>Gene Accession Number</th>\n",
       "      <td>AFFX-BioB-5_at</td>\n",
       "      <td>AFFX-BioB-M_at</td>\n",
       "      <td>AFFX-BioB-3_at</td>\n",
       "      <td>AFFX-BioC-5_at</td>\n",
       "      <td>AFFX-BioC-3_at</td>\n",
       "      <td>AFFX-BioDn-5_at</td>\n",
       "      <td>AFFX-BioDn-3_at</td>\n",
       "      <td>AFFX-CreX-5_at</td>\n",
       "      <td>AFFX-CreX-3_at</td>\n",
       "      <td>AFFX-BioB-5_st</td>\n",
       "      <td>...</td>\n",
       "      <td>U48730_at</td>\n",
       "      <td>U58516_at</td>\n",
       "      <td>U73738_at</td>\n",
       "      <td>X06956_at</td>\n",
       "      <td>X16699_at</td>\n",
       "      <td>X83863_at</td>\n",
       "      <td>Z17240_at</td>\n",
       "      <td>L49218_f_at</td>\n",
       "      <td>M71243_f_at</td>\n",
       "      <td>Z78285_f_at</td>\n",
       "    </tr>\n",
       "    <tr>\n",
       "      <th>1</th>\n",
       "      <td>-214</td>\n",
       "      <td>-153</td>\n",
       "      <td>-58</td>\n",
       "      <td>88</td>\n",
       "      <td>-295</td>\n",
       "      <td>-558</td>\n",
       "      <td>199</td>\n",
       "      <td>-176</td>\n",
       "      <td>252</td>\n",
       "      <td>206</td>\n",
       "      <td>...</td>\n",
       "      <td>185</td>\n",
       "      <td>511</td>\n",
       "      <td>-125</td>\n",
       "      <td>389</td>\n",
       "      <td>-37</td>\n",
       "      <td>793</td>\n",
       "      <td>329</td>\n",
       "      <td>36</td>\n",
       "      <td>191</td>\n",
       "      <td>-37</td>\n",
       "    </tr>\n",
       "    <tr>\n",
       "      <th>2</th>\n",
       "      <td>-139</td>\n",
       "      <td>-73</td>\n",
       "      <td>-1</td>\n",
       "      <td>283</td>\n",
       "      <td>-264</td>\n",
       "      <td>-400</td>\n",
       "      <td>-330</td>\n",
       "      <td>-168</td>\n",
       "      <td>101</td>\n",
       "      <td>74</td>\n",
       "      <td>...</td>\n",
       "      <td>169</td>\n",
       "      <td>837</td>\n",
       "      <td>-36</td>\n",
       "      <td>442</td>\n",
       "      <td>-17</td>\n",
       "      <td>782</td>\n",
       "      <td>295</td>\n",
       "      <td>11</td>\n",
       "      <td>76</td>\n",
       "      <td>-14</td>\n",
       "    </tr>\n",
       "    <tr>\n",
       "      <th>3</th>\n",
       "      <td>-76</td>\n",
       "      <td>-49</td>\n",
       "      <td>-307</td>\n",
       "      <td>309</td>\n",
       "      <td>-376</td>\n",
       "      <td>-650</td>\n",
       "      <td>33</td>\n",
       "      <td>-367</td>\n",
       "      <td>206</td>\n",
       "      <td>-215</td>\n",
       "      <td>...</td>\n",
       "      <td>315</td>\n",
       "      <td>1199</td>\n",
       "      <td>33</td>\n",
       "      <td>168</td>\n",
       "      <td>52</td>\n",
       "      <td>1138</td>\n",
       "      <td>777</td>\n",
       "      <td>41</td>\n",
       "      <td>228</td>\n",
       "      <td>-41</td>\n",
       "    </tr>\n",
       "  </tbody>\n",
       "</table>\n",
       "<p>5 rows × 7129 columns</p>\n",
       "</div>"
      ],
      "text/plain": [
       "                                                      0     \\\n",
       "Gene Description       AFFX-BioB-5_at (endogenous control)   \n",
       "Gene Accession Number                       AFFX-BioB-5_at   \n",
       "1                                                     -214   \n",
       "2                                                     -139   \n",
       "3                                                      -76   \n",
       "\n",
       "                                                      1     \\\n",
       "Gene Description       AFFX-BioB-M_at (endogenous control)   \n",
       "Gene Accession Number                       AFFX-BioB-M_at   \n",
       "1                                                     -153   \n",
       "2                                                      -73   \n",
       "3                                                      -49   \n",
       "\n",
       "                                                      2     \\\n",
       "Gene Description       AFFX-BioB-3_at (endogenous control)   \n",
       "Gene Accession Number                       AFFX-BioB-3_at   \n",
       "1                                                      -58   \n",
       "2                                                       -1   \n",
       "3                                                     -307   \n",
       "\n",
       "                                                      3     \\\n",
       "Gene Description       AFFX-BioC-5_at (endogenous control)   \n",
       "Gene Accession Number                       AFFX-BioC-5_at   \n",
       "1                                                       88   \n",
       "2                                                      283   \n",
       "3                                                      309   \n",
       "\n",
       "                                                      4     \\\n",
       "Gene Description       AFFX-BioC-3_at (endogenous control)   \n",
       "Gene Accession Number                       AFFX-BioC-3_at   \n",
       "1                                                     -295   \n",
       "2                                                     -264   \n",
       "3                                                     -376   \n",
       "\n",
       "                                                       5     \\\n",
       "Gene Description       AFFX-BioDn-5_at (endogenous control)   \n",
       "Gene Accession Number                       AFFX-BioDn-5_at   \n",
       "1                                                      -558   \n",
       "2                                                      -400   \n",
       "3                                                      -650   \n",
       "\n",
       "                                                       6     \\\n",
       "Gene Description       AFFX-BioDn-3_at (endogenous control)   \n",
       "Gene Accession Number                       AFFX-BioDn-3_at   \n",
       "1                                                       199   \n",
       "2                                                      -330   \n",
       "3                                                        33   \n",
       "\n",
       "                                                      7     \\\n",
       "Gene Description       AFFX-CreX-5_at (endogenous control)   \n",
       "Gene Accession Number                       AFFX-CreX-5_at   \n",
       "1                                                     -176   \n",
       "2                                                     -168   \n",
       "3                                                     -367   \n",
       "\n",
       "                                                      8     \\\n",
       "Gene Description       AFFX-CreX-3_at (endogenous control)   \n",
       "Gene Accession Number                       AFFX-CreX-3_at   \n",
       "1                                                      252   \n",
       "2                                                      101   \n",
       "3                                                      206   \n",
       "\n",
       "                                                      9     \\\n",
       "Gene Description       AFFX-BioB-5_st (endogenous control)   \n",
       "Gene Accession Number                       AFFX-BioB-5_st   \n",
       "1                                                      206   \n",
       "2                                                       74   \n",
       "3                                                     -215   \n",
       "\n",
       "                                 ...              \\\n",
       "Gene Description                 ...               \n",
       "Gene Accession Number            ...               \n",
       "1                                ...               \n",
       "2                                ...               \n",
       "3                                ...               \n",
       "\n",
       "                                                            7119  \\\n",
       "Gene Description       Transcription factor Stat5b (stat5b) mRNA   \n",
       "Gene Accession Number                                  U48730_at   \n",
       "1                                                            185   \n",
       "2                                                            169   \n",
       "3                                                            315   \n",
       "\n",
       "                                                      7120  \\\n",
       "Gene Description       Breast epithelial antigen BA46 mRNA   \n",
       "Gene Accession Number                            U58516_at   \n",
       "1                                                      511   \n",
       "2                                                      837   \n",
       "3                                                     1199   \n",
       "\n",
       "                                                                    7121  \\\n",
       "Gene Description       GB DEF = Calcium/calmodulin-dependent protein ...   \n",
       "Gene Accession Number                                          U73738_at   \n",
       "1                                                                   -125   \n",
       "2                                                                    -36   \n",
       "3                                                                     33   \n",
       "\n",
       "                                        7122  \\\n",
       "Gene Description       TUBULIN ALPHA-4 CHAIN   \n",
       "Gene Accession Number              X06956_at   \n",
       "1                                        389   \n",
       "2                                        442   \n",
       "3                                        168   \n",
       "\n",
       "                                                                    7123  \\\n",
       "Gene Description       CYP4B1 Cytochrome P450; subfamily IVB; polypep...   \n",
       "Gene Accession Number                                          X16699_at   \n",
       "1                                                                    -37   \n",
       "2                                                                    -17   \n",
       "3                                                                     52   \n",
       "\n",
       "                                                                    7124  \\\n",
       "Gene Description       PTGER3 Prostaglandin E receptor 3 (subtype EP3...   \n",
       "Gene Accession Number                                          X83863_at   \n",
       "1                                                                    793   \n",
       "2                                                                    782   \n",
       "3                                                                   1138   \n",
       "\n",
       "                                                                    7125  \\\n",
       "Gene Description       HMG2 High-mobility group (nonhistone chromosom...   \n",
       "Gene Accession Number                                          Z17240_at   \n",
       "1                                                                    329   \n",
       "2                                                                    295   \n",
       "3                                                                    777   \n",
       "\n",
       "                                                                7126  \\\n",
       "Gene Description       RB1 Retinoblastoma 1 (including osteosarcoma)   \n",
       "Gene Accession Number                                    L49218_f_at   \n",
       "1                                                                 36   \n",
       "2                                                                 11   \n",
       "3                                                                 41   \n",
       "\n",
       "                                                                    7127  \\\n",
       "Gene Description       GB DEF = Glycophorin Sta (type A) exons 3 and ...   \n",
       "Gene Accession Number                                        M71243_f_at   \n",
       "1                                                                    191   \n",
       "2                                                                     76   \n",
       "3                                                                    228   \n",
       "\n",
       "                                            7128  \n",
       "Gene Description       GB DEF = mRNA (clone 1A7)  \n",
       "Gene Accession Number                Z78285_f_at  \n",
       "1                                            -37  \n",
       "2                                            -14  \n",
       "3                                            -41  \n",
       "\n",
       "[5 rows x 7129 columns]"
      ]
     },
     "execution_count": 9,
     "metadata": {},
     "output_type": "execute_result"
    }
   ],
   "source": [
    "df_train.head()"
   ]
  },
  {
   "cell_type": "code",
   "execution_count": 10,
   "metadata": {},
   "outputs": [
    {
     "data": {
      "text/plain": [
       "7129"
      ]
     },
     "execution_count": 10,
     "metadata": {},
     "output_type": "execute_result"
    }
   ],
   "source": [
    "len(df_train.T[\"Gene Accession Number\"].unique())"
   ]
  },
  {
   "cell_type": "code",
   "execution_count": 11,
   "metadata": {
    "colab": {
     "base_uri": "https://localhost:8080/",
     "height": 164
    },
    "colab_type": "code",
    "executionInfo": {
     "elapsed": 338,
     "status": "error",
     "timestamp": 1541703181303,
     "user": {
      "displayName": "Sungjin Nam",
      "photoUrl": "https://lh3.googleusercontent.com/-bPC0ONeBc5c/AAAAAAAAAAI/AAAAAAAABDw/AL4XBrIvQJI/s64/photo.jpg",
      "userId": "06295554822278854914"
     },
     "user_tz": 300
    },
    "id": "WJTUBUqZ8BcM",
    "outputExpanded": false,
    "outputId": "823a8345-f21e-414e-c308-567039a388b3"
   },
   "outputs": [
    {
     "data": {
      "text/html": [
       "<div>\n",
       "<style scoped>\n",
       "    .dataframe tbody tr th:only-of-type {\n",
       "        vertical-align: middle;\n",
       "    }\n",
       "\n",
       "    .dataframe tbody tr th {\n",
       "        vertical-align: top;\n",
       "    }\n",
       "\n",
       "    .dataframe thead th {\n",
       "        text-align: right;\n",
       "    }\n",
       "</style>\n",
       "<table border=\"1\" class=\"dataframe\">\n",
       "  <thead>\n",
       "    <tr style=\"text-align: right;\">\n",
       "      <th></th>\n",
       "      <th>0</th>\n",
       "      <th>1</th>\n",
       "      <th>2</th>\n",
       "      <th>3</th>\n",
       "      <th>4</th>\n",
       "      <th>5</th>\n",
       "      <th>6</th>\n",
       "      <th>7</th>\n",
       "      <th>8</th>\n",
       "      <th>9</th>\n",
       "      <th>...</th>\n",
       "      <th>7119</th>\n",
       "      <th>7120</th>\n",
       "      <th>7121</th>\n",
       "      <th>7122</th>\n",
       "      <th>7123</th>\n",
       "      <th>7124</th>\n",
       "      <th>7125</th>\n",
       "      <th>7126</th>\n",
       "      <th>7127</th>\n",
       "      <th>7128</th>\n",
       "    </tr>\n",
       "  </thead>\n",
       "  <tbody>\n",
       "    <tr>\n",
       "      <th>Gene Description</th>\n",
       "      <td>AFFX-BioB-5_at (endogenous control)</td>\n",
       "      <td>AFFX-BioB-M_at (endogenous control)</td>\n",
       "      <td>AFFX-BioB-3_at (endogenous control)</td>\n",
       "      <td>AFFX-BioC-5_at (endogenous control)</td>\n",
       "      <td>AFFX-BioC-3_at (endogenous control)</td>\n",
       "      <td>AFFX-BioDn-5_at (endogenous control)</td>\n",
       "      <td>AFFX-BioDn-3_at (endogenous control)</td>\n",
       "      <td>AFFX-CreX-5_at (endogenous control)</td>\n",
       "      <td>AFFX-CreX-3_at (endogenous control)</td>\n",
       "      <td>AFFX-BioB-5_st (endogenous control)</td>\n",
       "      <td>...</td>\n",
       "      <td>Transcription factor Stat5b (stat5b) mRNA</td>\n",
       "      <td>Breast epithelial antigen BA46 mRNA</td>\n",
       "      <td>GB DEF = Calcium/calmodulin-dependent protein ...</td>\n",
       "      <td>TUBULIN ALPHA-4 CHAIN</td>\n",
       "      <td>CYP4B1 Cytochrome P450; subfamily IVB; polypep...</td>\n",
       "      <td>PTGER3 Prostaglandin E receptor 3 (subtype EP3...</td>\n",
       "      <td>HMG2 High-mobility group (nonhistone chromosom...</td>\n",
       "      <td>RB1 Retinoblastoma 1 (including osteosarcoma)</td>\n",
       "      <td>GB DEF = Glycophorin Sta (type A) exons 3 and ...</td>\n",
       "      <td>GB DEF = mRNA (clone 1A7)</td>\n",
       "    </tr>\n",
       "    <tr>\n",
       "      <th>Gene Accession Number</th>\n",
       "      <td>AFFX-BioB-5_at</td>\n",
       "      <td>AFFX-BioB-M_at</td>\n",
       "      <td>AFFX-BioB-3_at</td>\n",
       "      <td>AFFX-BioC-5_at</td>\n",
       "      <td>AFFX-BioC-3_at</td>\n",
       "      <td>AFFX-BioDn-5_at</td>\n",
       "      <td>AFFX-BioDn-3_at</td>\n",
       "      <td>AFFX-CreX-5_at</td>\n",
       "      <td>AFFX-CreX-3_at</td>\n",
       "      <td>AFFX-BioB-5_st</td>\n",
       "      <td>...</td>\n",
       "      <td>U48730_at</td>\n",
       "      <td>U58516_at</td>\n",
       "      <td>U73738_at</td>\n",
       "      <td>X06956_at</td>\n",
       "      <td>X16699_at</td>\n",
       "      <td>X83863_at</td>\n",
       "      <td>Z17240_at</td>\n",
       "      <td>L49218_f_at</td>\n",
       "      <td>M71243_f_at</td>\n",
       "      <td>Z78285_f_at</td>\n",
       "    </tr>\n",
       "    <tr>\n",
       "      <th>39</th>\n",
       "      <td>-342</td>\n",
       "      <td>-200</td>\n",
       "      <td>41</td>\n",
       "      <td>328</td>\n",
       "      <td>-224</td>\n",
       "      <td>-427</td>\n",
       "      <td>-656</td>\n",
       "      <td>-292</td>\n",
       "      <td>137</td>\n",
       "      <td>-144</td>\n",
       "      <td>...</td>\n",
       "      <td>277</td>\n",
       "      <td>1023</td>\n",
       "      <td>67</td>\n",
       "      <td>214</td>\n",
       "      <td>-135</td>\n",
       "      <td>1074</td>\n",
       "      <td>475</td>\n",
       "      <td>48</td>\n",
       "      <td>168</td>\n",
       "      <td>-70</td>\n",
       "    </tr>\n",
       "    <tr>\n",
       "      <th>40</th>\n",
       "      <td>-87</td>\n",
       "      <td>-248</td>\n",
       "      <td>262</td>\n",
       "      <td>295</td>\n",
       "      <td>-226</td>\n",
       "      <td>-493</td>\n",
       "      <td>367</td>\n",
       "      <td>-452</td>\n",
       "      <td>194</td>\n",
       "      <td>162</td>\n",
       "      <td>...</td>\n",
       "      <td>83</td>\n",
       "      <td>529</td>\n",
       "      <td>-295</td>\n",
       "      <td>352</td>\n",
       "      <td>-67</td>\n",
       "      <td>67</td>\n",
       "      <td>263</td>\n",
       "      <td>-33</td>\n",
       "      <td>-33</td>\n",
       "      <td>-21</td>\n",
       "    </tr>\n",
       "    <tr>\n",
       "      <th>42</th>\n",
       "      <td>22</td>\n",
       "      <td>-153</td>\n",
       "      <td>17</td>\n",
       "      <td>276</td>\n",
       "      <td>-211</td>\n",
       "      <td>-250</td>\n",
       "      <td>55</td>\n",
       "      <td>-141</td>\n",
       "      <td>0</td>\n",
       "      <td>500</td>\n",
       "      <td>...</td>\n",
       "      <td>413</td>\n",
       "      <td>399</td>\n",
       "      <td>16</td>\n",
       "      <td>558</td>\n",
       "      <td>24</td>\n",
       "      <td>893</td>\n",
       "      <td>297</td>\n",
       "      <td>6</td>\n",
       "      <td>1971</td>\n",
       "      <td>-42</td>\n",
       "    </tr>\n",
       "  </tbody>\n",
       "</table>\n",
       "<p>5 rows × 7129 columns</p>\n",
       "</div>"
      ],
      "text/plain": [
       "                                                      0     \\\n",
       "Gene Description       AFFX-BioB-5_at (endogenous control)   \n",
       "Gene Accession Number                       AFFX-BioB-5_at   \n",
       "39                                                    -342   \n",
       "40                                                     -87   \n",
       "42                                                      22   \n",
       "\n",
       "                                                      1     \\\n",
       "Gene Description       AFFX-BioB-M_at (endogenous control)   \n",
       "Gene Accession Number                       AFFX-BioB-M_at   \n",
       "39                                                    -200   \n",
       "40                                                    -248   \n",
       "42                                                    -153   \n",
       "\n",
       "                                                      2     \\\n",
       "Gene Description       AFFX-BioB-3_at (endogenous control)   \n",
       "Gene Accession Number                       AFFX-BioB-3_at   \n",
       "39                                                      41   \n",
       "40                                                     262   \n",
       "42                                                      17   \n",
       "\n",
       "                                                      3     \\\n",
       "Gene Description       AFFX-BioC-5_at (endogenous control)   \n",
       "Gene Accession Number                       AFFX-BioC-5_at   \n",
       "39                                                     328   \n",
       "40                                                     295   \n",
       "42                                                     276   \n",
       "\n",
       "                                                      4     \\\n",
       "Gene Description       AFFX-BioC-3_at (endogenous control)   \n",
       "Gene Accession Number                       AFFX-BioC-3_at   \n",
       "39                                                    -224   \n",
       "40                                                    -226   \n",
       "42                                                    -211   \n",
       "\n",
       "                                                       5     \\\n",
       "Gene Description       AFFX-BioDn-5_at (endogenous control)   \n",
       "Gene Accession Number                       AFFX-BioDn-5_at   \n",
       "39                                                     -427   \n",
       "40                                                     -493   \n",
       "42                                                     -250   \n",
       "\n",
       "                                                       6     \\\n",
       "Gene Description       AFFX-BioDn-3_at (endogenous control)   \n",
       "Gene Accession Number                       AFFX-BioDn-3_at   \n",
       "39                                                     -656   \n",
       "40                                                      367   \n",
       "42                                                       55   \n",
       "\n",
       "                                                      7     \\\n",
       "Gene Description       AFFX-CreX-5_at (endogenous control)   \n",
       "Gene Accession Number                       AFFX-CreX-5_at   \n",
       "39                                                    -292   \n",
       "40                                                    -452   \n",
       "42                                                    -141   \n",
       "\n",
       "                                                      8     \\\n",
       "Gene Description       AFFX-CreX-3_at (endogenous control)   \n",
       "Gene Accession Number                       AFFX-CreX-3_at   \n",
       "39                                                     137   \n",
       "40                                                     194   \n",
       "42                                                       0   \n",
       "\n",
       "                                                      9     \\\n",
       "Gene Description       AFFX-BioB-5_st (endogenous control)   \n",
       "Gene Accession Number                       AFFX-BioB-5_st   \n",
       "39                                                    -144   \n",
       "40                                                     162   \n",
       "42                                                     500   \n",
       "\n",
       "                                 ...              \\\n",
       "Gene Description                 ...               \n",
       "Gene Accession Number            ...               \n",
       "39                               ...               \n",
       "40                               ...               \n",
       "42                               ...               \n",
       "\n",
       "                                                            7119  \\\n",
       "Gene Description       Transcription factor Stat5b (stat5b) mRNA   \n",
       "Gene Accession Number                                  U48730_at   \n",
       "39                                                           277   \n",
       "40                                                            83   \n",
       "42                                                           413   \n",
       "\n",
       "                                                      7120  \\\n",
       "Gene Description       Breast epithelial antigen BA46 mRNA   \n",
       "Gene Accession Number                            U58516_at   \n",
       "39                                                    1023   \n",
       "40                                                     529   \n",
       "42                                                     399   \n",
       "\n",
       "                                                                    7121  \\\n",
       "Gene Description       GB DEF = Calcium/calmodulin-dependent protein ...   \n",
       "Gene Accession Number                                          U73738_at   \n",
       "39                                                                    67   \n",
       "40                                                                  -295   \n",
       "42                                                                    16   \n",
       "\n",
       "                                        7122  \\\n",
       "Gene Description       TUBULIN ALPHA-4 CHAIN   \n",
       "Gene Accession Number              X06956_at   \n",
       "39                                       214   \n",
       "40                                       352   \n",
       "42                                       558   \n",
       "\n",
       "                                                                    7123  \\\n",
       "Gene Description       CYP4B1 Cytochrome P450; subfamily IVB; polypep...   \n",
       "Gene Accession Number                                          X16699_at   \n",
       "39                                                                  -135   \n",
       "40                                                                   -67   \n",
       "42                                                                    24   \n",
       "\n",
       "                                                                    7124  \\\n",
       "Gene Description       PTGER3 Prostaglandin E receptor 3 (subtype EP3...   \n",
       "Gene Accession Number                                          X83863_at   \n",
       "39                                                                  1074   \n",
       "40                                                                    67   \n",
       "42                                                                   893   \n",
       "\n",
       "                                                                    7125  \\\n",
       "Gene Description       HMG2 High-mobility group (nonhistone chromosom...   \n",
       "Gene Accession Number                                          Z17240_at   \n",
       "39                                                                   475   \n",
       "40                                                                   263   \n",
       "42                                                                   297   \n",
       "\n",
       "                                                                7126  \\\n",
       "Gene Description       RB1 Retinoblastoma 1 (including osteosarcoma)   \n",
       "Gene Accession Number                                    L49218_f_at   \n",
       "39                                                                48   \n",
       "40                                                               -33   \n",
       "42                                                                 6   \n",
       "\n",
       "                                                                    7127  \\\n",
       "Gene Description       GB DEF = Glycophorin Sta (type A) exons 3 and ...   \n",
       "Gene Accession Number                                        M71243_f_at   \n",
       "39                                                                   168   \n",
       "40                                                                   -33   \n",
       "42                                                                  1971   \n",
       "\n",
       "                                            7128  \n",
       "Gene Description       GB DEF = mRNA (clone 1A7)  \n",
       "Gene Accession Number                Z78285_f_at  \n",
       "39                                           -70  \n",
       "40                                           -21  \n",
       "42                                           -42  \n",
       "\n",
       "[5 rows x 7129 columns]"
      ]
     },
     "execution_count": 11,
     "metadata": {},
     "output_type": "execute_result"
    }
   ],
   "source": [
    "df_test.head()"
   ]
  },
  {
   "cell_type": "code",
   "execution_count": 12,
   "metadata": {},
   "outputs": [],
   "source": [
    "df_test = df_test.drop(['Gene Description','Gene Accession Number'],axis=0)"
   ]
  },
  {
   "cell_type": "code",
   "execution_count": 13,
   "metadata": {},
   "outputs": [],
   "source": [
    "df_train = df_train.drop(['Gene Description','Gene Accession Number'],axis=0)"
   ]
  },
  {
   "cell_type": "code",
   "execution_count": 33,
   "metadata": {},
   "outputs": [
    {
     "data": {
      "text/html": [
       "<div>\n",
       "<style scoped>\n",
       "    .dataframe tbody tr th:only-of-type {\n",
       "        vertical-align: middle;\n",
       "    }\n",
       "\n",
       "    .dataframe tbody tr th {\n",
       "        vertical-align: top;\n",
       "    }\n",
       "\n",
       "    .dataframe thead th {\n",
       "        text-align: right;\n",
       "    }\n",
       "</style>\n",
       "<table border=\"1\" class=\"dataframe\">\n",
       "  <thead>\n",
       "    <tr style=\"text-align: right;\">\n",
       "      <th></th>\n",
       "      <th>0</th>\n",
       "      <th>1</th>\n",
       "      <th>2</th>\n",
       "      <th>3</th>\n",
       "      <th>4</th>\n",
       "      <th>5</th>\n",
       "      <th>6</th>\n",
       "      <th>7</th>\n",
       "      <th>8</th>\n",
       "      <th>9</th>\n",
       "      <th>...</th>\n",
       "      <th>7119</th>\n",
       "      <th>7120</th>\n",
       "      <th>7121</th>\n",
       "      <th>7122</th>\n",
       "      <th>7123</th>\n",
       "      <th>7124</th>\n",
       "      <th>7125</th>\n",
       "      <th>7126</th>\n",
       "      <th>7127</th>\n",
       "      <th>7128</th>\n",
       "    </tr>\n",
       "  </thead>\n",
       "  <tbody>\n",
       "    <tr>\n",
       "      <th>1</th>\n",
       "      <td>-214</td>\n",
       "      <td>-153</td>\n",
       "      <td>-58</td>\n",
       "      <td>88</td>\n",
       "      <td>-295</td>\n",
       "      <td>-558</td>\n",
       "      <td>199</td>\n",
       "      <td>-176</td>\n",
       "      <td>252</td>\n",
       "      <td>206</td>\n",
       "      <td>...</td>\n",
       "      <td>185</td>\n",
       "      <td>511</td>\n",
       "      <td>-125</td>\n",
       "      <td>389</td>\n",
       "      <td>-37</td>\n",
       "      <td>793</td>\n",
       "      <td>329</td>\n",
       "      <td>36</td>\n",
       "      <td>191</td>\n",
       "      <td>-37</td>\n",
       "    </tr>\n",
       "    <tr>\n",
       "      <th>2</th>\n",
       "      <td>-139</td>\n",
       "      <td>-73</td>\n",
       "      <td>-1</td>\n",
       "      <td>283</td>\n",
       "      <td>-264</td>\n",
       "      <td>-400</td>\n",
       "      <td>-330</td>\n",
       "      <td>-168</td>\n",
       "      <td>101</td>\n",
       "      <td>74</td>\n",
       "      <td>...</td>\n",
       "      <td>169</td>\n",
       "      <td>837</td>\n",
       "      <td>-36</td>\n",
       "      <td>442</td>\n",
       "      <td>-17</td>\n",
       "      <td>782</td>\n",
       "      <td>295</td>\n",
       "      <td>11</td>\n",
       "      <td>76</td>\n",
       "      <td>-14</td>\n",
       "    </tr>\n",
       "    <tr>\n",
       "      <th>3</th>\n",
       "      <td>-76</td>\n",
       "      <td>-49</td>\n",
       "      <td>-307</td>\n",
       "      <td>309</td>\n",
       "      <td>-376</td>\n",
       "      <td>-650</td>\n",
       "      <td>33</td>\n",
       "      <td>-367</td>\n",
       "      <td>206</td>\n",
       "      <td>-215</td>\n",
       "      <td>...</td>\n",
       "      <td>315</td>\n",
       "      <td>1199</td>\n",
       "      <td>33</td>\n",
       "      <td>168</td>\n",
       "      <td>52</td>\n",
       "      <td>1138</td>\n",
       "      <td>777</td>\n",
       "      <td>41</td>\n",
       "      <td>228</td>\n",
       "      <td>-41</td>\n",
       "    </tr>\n",
       "    <tr>\n",
       "      <th>4</th>\n",
       "      <td>-135</td>\n",
       "      <td>-114</td>\n",
       "      <td>265</td>\n",
       "      <td>12</td>\n",
       "      <td>-419</td>\n",
       "      <td>-585</td>\n",
       "      <td>158</td>\n",
       "      <td>-253</td>\n",
       "      <td>49</td>\n",
       "      <td>31</td>\n",
       "      <td>...</td>\n",
       "      <td>240</td>\n",
       "      <td>835</td>\n",
       "      <td>218</td>\n",
       "      <td>174</td>\n",
       "      <td>-110</td>\n",
       "      <td>627</td>\n",
       "      <td>170</td>\n",
       "      <td>-50</td>\n",
       "      <td>126</td>\n",
       "      <td>-91</td>\n",
       "    </tr>\n",
       "    <tr>\n",
       "      <th>5</th>\n",
       "      <td>-106</td>\n",
       "      <td>-125</td>\n",
       "      <td>-76</td>\n",
       "      <td>168</td>\n",
       "      <td>-230</td>\n",
       "      <td>-284</td>\n",
       "      <td>4</td>\n",
       "      <td>-122</td>\n",
       "      <td>70</td>\n",
       "      <td>252</td>\n",
       "      <td>...</td>\n",
       "      <td>156</td>\n",
       "      <td>649</td>\n",
       "      <td>57</td>\n",
       "      <td>504</td>\n",
       "      <td>-26</td>\n",
       "      <td>250</td>\n",
       "      <td>314</td>\n",
       "      <td>14</td>\n",
       "      <td>56</td>\n",
       "      <td>-25</td>\n",
       "    </tr>\n",
       "  </tbody>\n",
       "</table>\n",
       "<p>5 rows × 7129 columns</p>\n",
       "</div>"
      ],
      "text/plain": [
       "   0     1     2    3     4     5     6     7    8     9    ...  7119  7120  \\\n",
       "1  -214  -153   -58   88  -295  -558   199  -176  252   206 ...   185   511   \n",
       "2  -139   -73    -1  283  -264  -400  -330  -168  101    74 ...   169   837   \n",
       "3   -76   -49  -307  309  -376  -650    33  -367  206  -215 ...   315  1199   \n",
       "4  -135  -114   265   12  -419  -585   158  -253   49    31 ...   240   835   \n",
       "5  -106  -125   -76  168  -230  -284     4  -122   70   252 ...   156   649   \n",
       "\n",
       "   7121 7122  7123  7124 7125 7126 7127 7128  \n",
       "1  -125  389   -37   793  329   36  191  -37  \n",
       "2   -36  442   -17   782  295   11   76  -14  \n",
       "3    33  168    52  1138  777   41  228  -41  \n",
       "4   218  174  -110   627  170  -50  126  -91  \n",
       "5    57  504   -26   250  314   14   56  -25  \n",
       "\n",
       "[5 rows x 7129 columns]"
      ]
     },
     "execution_count": 33,
     "metadata": {},
     "output_type": "execute_result"
    }
   ],
   "source": [
    "df_train.head()"
   ]
  },
  {
   "cell_type": "code",
   "execution_count": 99,
   "metadata": {},
   "outputs": [
    {
     "data": {
      "text/html": [
       "<div>\n",
       "<style scoped>\n",
       "    .dataframe tbody tr th:only-of-type {\n",
       "        vertical-align: middle;\n",
       "    }\n",
       "\n",
       "    .dataframe tbody tr th {\n",
       "        vertical-align: top;\n",
       "    }\n",
       "\n",
       "    .dataframe thead th {\n",
       "        text-align: right;\n",
       "    }\n",
       "</style>\n",
       "<table border=\"1\" class=\"dataframe\">\n",
       "  <thead>\n",
       "    <tr style=\"text-align: right;\">\n",
       "      <th></th>\n",
       "      <th>patient</th>\n",
       "      <th>cancer</th>\n",
       "    </tr>\n",
       "  </thead>\n",
       "  <tbody>\n",
       "    <tr>\n",
       "      <th>0</th>\n",
       "      <td>1</td>\n",
       "      <td>ALL</td>\n",
       "    </tr>\n",
       "    <tr>\n",
       "      <th>1</th>\n",
       "      <td>2</td>\n",
       "      <td>ALL</td>\n",
       "    </tr>\n",
       "  </tbody>\n",
       "</table>\n",
       "</div>"
      ],
      "text/plain": [
       "   patient cancer\n",
       "0        1    ALL\n",
       "1        2    ALL"
      ]
     },
     "execution_count": 99,
     "metadata": {},
     "output_type": "execute_result"
    }
   ],
   "source": [
    "df_label.head(2)"
   ]
  },
  {
   "cell_type": "markdown",
   "metadata": {
    "colab_type": "text",
    "id": "uYm4yzb5poJ3",
    "outputExpanded": false
   },
   "source": [
    "# Part 1: MDS"
   ]
  },
  {
   "cell_type": "markdown",
   "metadata": {
    "colab_type": "text",
    "id": "k4tgGvcvqvul",
    "outputExpanded": false
   },
   "source": [
    "## 1.1. Visualize the gene expression data in 2D or 3D using Multidimensional Scaling  (10 pts.)"
   ]
  },
  {
   "cell_type": "code",
   "execution_count": 14,
   "metadata": {
    "colab": {},
    "colab_type": "code",
    "id": "3g_aOIWm8BcS",
    "outputExpanded": false
   },
   "outputs": [
    {
     "data": {
      "text/html": [
       "<div>\n",
       "<style scoped>\n",
       "    .dataframe tbody tr th:only-of-type {\n",
       "        vertical-align: middle;\n",
       "    }\n",
       "\n",
       "    .dataframe tbody tr th {\n",
       "        vertical-align: top;\n",
       "    }\n",
       "\n",
       "    .dataframe thead th {\n",
       "        text-align: right;\n",
       "    }\n",
       "</style>\n",
       "<table border=\"1\" class=\"dataframe\">\n",
       "  <thead>\n",
       "    <tr style=\"text-align: right;\">\n",
       "      <th></th>\n",
       "      <th>0</th>\n",
       "      <th>1</th>\n",
       "      <th>2</th>\n",
       "      <th>3</th>\n",
       "      <th>4</th>\n",
       "      <th>5</th>\n",
       "      <th>6</th>\n",
       "      <th>7</th>\n",
       "      <th>8</th>\n",
       "      <th>9</th>\n",
       "      <th>...</th>\n",
       "      <th>7119</th>\n",
       "      <th>7120</th>\n",
       "      <th>7121</th>\n",
       "      <th>7122</th>\n",
       "      <th>7123</th>\n",
       "      <th>7124</th>\n",
       "      <th>7125</th>\n",
       "      <th>7126</th>\n",
       "      <th>7127</th>\n",
       "      <th>7128</th>\n",
       "    </tr>\n",
       "  </thead>\n",
       "  <tbody>\n",
       "    <tr>\n",
       "      <th>1</th>\n",
       "      <td>-0.861496</td>\n",
       "      <td>-0.033101</td>\n",
       "      <td>-0.351701</td>\n",
       "      <td>-0.805738</td>\n",
       "      <td>-0.168417</td>\n",
       "      <td>-0.888716</td>\n",
       "      <td>1.120068</td>\n",
       "      <td>0.280962</td>\n",
       "      <td>1.863470</td>\n",
       "      <td>0.449110</td>\n",
       "      <td>...</td>\n",
       "      <td>0.074511</td>\n",
       "      <td>-0.815620</td>\n",
       "      <td>-1.758717</td>\n",
       "      <td>-0.021865</td>\n",
       "      <td>-0.405584</td>\n",
       "      <td>-0.159782</td>\n",
       "      <td>-0.033046</td>\n",
       "      <td>0.546068</td>\n",
       "      <td>-0.435820</td>\n",
       "      <td>-0.255875</td>\n",
       "    </tr>\n",
       "    <tr>\n",
       "      <th>2</th>\n",
       "      <td>-0.167723</td>\n",
       "      <td>1.037400</td>\n",
       "      <td>0.139139</td>\n",
       "      <td>0.876572</td>\n",
       "      <td>0.114600</td>\n",
       "      <td>0.293351</td>\n",
       "      <td>-1.322502</td>\n",
       "      <td>0.370212</td>\n",
       "      <td>0.023726</td>\n",
       "      <td>-0.182439</td>\n",
       "      <td>...</td>\n",
       "      <td>-0.116640</td>\n",
       "      <td>0.292993</td>\n",
       "      <td>-0.589006</td>\n",
       "      <td>0.092516</td>\n",
       "      <td>0.073055</td>\n",
       "      <td>-0.182892</td>\n",
       "      <td>-0.197260</td>\n",
       "      <td>-0.267043</td>\n",
       "      <td>-0.595744</td>\n",
       "      <td>0.499648</td>\n",
       "    </tr>\n",
       "    <tr>\n",
       "      <th>3</th>\n",
       "      <td>0.415047</td>\n",
       "      <td>1.358550</td>\n",
       "      <td>-2.495899</td>\n",
       "      <td>1.100880</td>\n",
       "      <td>-0.907912</td>\n",
       "      <td>-1.577008</td>\n",
       "      <td>0.353591</td>\n",
       "      <td>-1.849884</td>\n",
       "      <td>1.303018</td>\n",
       "      <td>-1.565148</td>\n",
       "      <td>...</td>\n",
       "      <td>1.627617</td>\n",
       "      <td>1.524030</td>\n",
       "      <td>0.317849</td>\n",
       "      <td>-0.498816</td>\n",
       "      <td>1.724361</td>\n",
       "      <td>0.565043</td>\n",
       "      <td>2.130709</td>\n",
       "      <td>0.708690</td>\n",
       "      <td>-0.384366</td>\n",
       "      <td>-0.387270</td>\n",
       "    </tr>\n",
       "    <tr>\n",
       "      <th>4</th>\n",
       "      <td>-0.130721</td>\n",
       "      <td>0.488768</td>\n",
       "      <td>2.429729</td>\n",
       "      <td>-1.461407</td>\n",
       "      <td>-1.300484</td>\n",
       "      <td>-1.090715</td>\n",
       "      <td>0.930757</td>\n",
       "      <td>-0.578070</td>\n",
       "      <td>-0.609828</td>\n",
       "      <td>-0.388171</td>\n",
       "      <td>...</td>\n",
       "      <td>0.731595</td>\n",
       "      <td>0.286192</td>\n",
       "      <td>2.749271</td>\n",
       "      <td>-0.485868</td>\n",
       "      <td>-2.152617</td>\n",
       "      <td>-0.508538</td>\n",
       "      <td>-0.800986</td>\n",
       "      <td>-2.251033</td>\n",
       "      <td>-0.526212</td>\n",
       "      <td>-2.029712</td>\n",
       "    </tr>\n",
       "    <tr>\n",
       "      <th>5</th>\n",
       "      <td>0.137537</td>\n",
       "      <td>0.341574</td>\n",
       "      <td>-0.506703</td>\n",
       "      <td>-0.115559</td>\n",
       "      <td>0.425006</td>\n",
       "      <td>1.161198</td>\n",
       "      <td>0.219688</td>\n",
       "      <td>0.883400</td>\n",
       "      <td>-0.353970</td>\n",
       "      <td>0.669195</td>\n",
       "      <td>...</td>\n",
       "      <td>-0.271951</td>\n",
       "      <td>-0.346330</td>\n",
       "      <td>0.633277</td>\n",
       "      <td>0.226322</td>\n",
       "      <td>-0.142332</td>\n",
       "      <td>-1.300593</td>\n",
       "      <td>-0.105493</td>\n",
       "      <td>-0.169469</td>\n",
       "      <td>-0.623557</td>\n",
       "      <td>0.138311</td>\n",
       "    </tr>\n",
       "  </tbody>\n",
       "</table>\n",
       "<p>5 rows × 7129 columns</p>\n",
       "</div>"
      ],
      "text/plain": [
       "       0         1         2         3         4         5         6     \\\n",
       "1 -0.861496 -0.033101 -0.351701 -0.805738 -0.168417 -0.888716  1.120068   \n",
       "2 -0.167723  1.037400  0.139139  0.876572  0.114600  0.293351 -1.322502   \n",
       "3  0.415047  1.358550 -2.495899  1.100880 -0.907912 -1.577008  0.353591   \n",
       "4 -0.130721  0.488768  2.429729 -1.461407 -1.300484 -1.090715  0.930757   \n",
       "5  0.137537  0.341574 -0.506703 -0.115559  0.425006  1.161198  0.219688   \n",
       "\n",
       "       7         8         9       ...         7119      7120      7121  \\\n",
       "1  0.280962  1.863470  0.449110    ...     0.074511 -0.815620 -1.758717   \n",
       "2  0.370212  0.023726 -0.182439    ...    -0.116640  0.292993 -0.589006   \n",
       "3 -1.849884  1.303018 -1.565148    ...     1.627617  1.524030  0.317849   \n",
       "4 -0.578070 -0.609828 -0.388171    ...     0.731595  0.286192  2.749271   \n",
       "5  0.883400 -0.353970  0.669195    ...    -0.271951 -0.346330  0.633277   \n",
       "\n",
       "       7122      7123      7124      7125      7126      7127      7128  \n",
       "1 -0.021865 -0.405584 -0.159782 -0.033046  0.546068 -0.435820 -0.255875  \n",
       "2  0.092516  0.073055 -0.182892 -0.197260 -0.267043 -0.595744  0.499648  \n",
       "3 -0.498816  1.724361  0.565043  2.130709  0.708690 -0.384366 -0.387270  \n",
       "4 -0.485868 -2.152617 -0.508538 -0.800986 -2.251033 -0.526212 -2.029712  \n",
       "5  0.226322 -0.142332 -1.300593 -0.105493 -0.169469 -0.623557  0.138311  \n",
       "\n",
       "[5 rows x 7129 columns]"
      ]
     },
     "execution_count": 14,
     "metadata": {},
     "output_type": "execute_result"
    }
   ],
   "source": [
    "### YOUR CODE HERE ###\n",
    "# same scaler different functions\n",
    "    # from sklearn.preprocessing import StandardScaler\n",
    "    # df_train_norm_1 = df_train.copy()\n",
    "    # X_std = StandardScaler().fit_transform(df_train_norm_1)\n",
    "import sklearn.preprocessing as skp\n",
    "df_train_norm = df_train.copy()\n",
    "df_train_norm.ix[:,:] = skp.scale(df_train_norm.ix[:,:].astype(np.float))\n",
    "df_train_norm.head()"
   ]
  },
  {
   "cell_type": "code",
   "execution_count": 15,
   "metadata": {},
   "outputs": [
    {
     "data": {
      "image/png": "[encoded data removed]",
      "text/plain": [
       "<Figure size 432x288 with 1 Axes>"
      ]
     },
     "metadata": {},
     "output_type": "display_data"
    }
   ],
   "source": [
    "# 2D \n",
    "MDS_2D = skm.MDS(n_components=2).fit_transform(df_train_norm.ix[:,:])\n",
    "plt.scatter(MDS_2D[:,0],MDS_2D[:,1],s=100)\n",
    "\n",
    "plt.xlabel('MDS1')\n",
    "plt.ylabel('MDS2')\n",
    "plt.title('MDS')\n",
    "\n",
    "# annote\n",
    "for i, s in enumerate(df_train_norm.index):\n",
    "    plt.annotate(s, xy=MDS_2D[i,:2]+0.05, fontsize=15)"
   ]
  },
  {
   "cell_type": "code",
   "execution_count": 123,
   "metadata": {},
   "outputs": [
    {
     "data": {
      "image/png": "[encoded data removed]",
      "text/plain": [
       "<Figure size 432x288 with 1 Axes>"
      ]
     },
     "metadata": {},
     "output_type": "display_data"
    }
   ],
   "source": [
    "# 3D \n",
    "MDS_3D = skm.MDS(n_components=3).fit_transform(df_train_norm.ix[:,:])\n",
    "\n",
    "from mpl_toolkits.mplot3d import Axes3D\n",
    "from mpl_toolkits.mplot3d import proj3d\n",
    "\n",
    "fig = plt.figure()\n",
    "ax = fig.add_subplot(111, projection='3d')\n",
    "ax.scatter(MDS_3D[:,0], MDS_3D[:,1], MDS_3D[:,2], s=100)\n",
    "\n",
    "ax.set_xticks([-2,-1,0,1,2])\n",
    "ax.set_yticks([-1,0,1])\n",
    "ax.set_zticks([-1,0,1])\n",
    "\n",
    "for i, s in enumerate(df_train_norm.index):\n",
    "    x, y, _ = proj3d.proj_transform(MDS_3D[i,0],MDS_3D[i,1],MDS_3D[i,2],\n",
    "                                    ax.get_proj())\n",
    "    plt.annotate(s, xy=(x-0.005,y+0.002), fontsize=10)"
   ]
  },
  {
   "cell_type": "code",
   "execution_count": 128,
   "metadata": {},
   "outputs": [],
   "source": [
    "# acute myeloid leukemia (AML) and acute lymphoblastic leukemia (ALL)\n",
    "# df_label.ix[:37,:]"
   ]
  },
  {
   "cell_type": "markdown",
   "metadata": {
    "colab_type": "text",
    "id": "fj0O2L8WE0ce",
    "outputExpanded": false
   },
   "source": [
    "## 1.2. Interprete your results (10 pts.)\n",
    "What can you see from your visualization(s)?"
   ]
  },
  {
   "cell_type": "markdown",
   "metadata": {
    "colab_type": "text",
    "id": "qX2GSpYO8Bcb",
    "outputExpanded": false
   },
   "source": [
    "(YOUR INTERPRETATION HERE)\n",
    "### Explain:\n",
    "MDS display the data in low-dimensional while preserving the distances in the high-dimensional space. From the above two plots, we can find some structure of the data. \n",
    "* In the 2D scatterplot, there are some potential linear relationships between some subjects. \n",
    "![](structure_of_data.png)\n",
    "\n",
    "* In the 3D scatterplot, we can recognize some small groups and also potential linear relations.\n",
    "\n",
    "![](group.png)\n",
    "* We can easily find some outliners from the two plots too like subject 20, 17, 33, 36 and 27.\n",
    "* From the actual data, I found that the category of cancer for the patient whose number is larger than 27 is \"AML\" while smaller than 27 is \"ALL\". I circled the \"AML\" patients with red, from which we can find that these patients tend to located at the right side of the plot, where the value of MDS1 is lower than 0. This indicates that patients with same cancer tend to have some gene expressions in common. And there are some gene factors behind the MDS1 that lead to the occurrence of different kinds of cancers."
   ]
  },
  {
   "cell_type": "markdown",
   "metadata": {
    "colab_type": "text",
    "id": "H0DMNTTkptwy",
    "outputExpanded": false
   },
   "source": [
    "# Part 2: PCA"
   ]
  },
  {
   "cell_type": "markdown",
   "metadata": {
    "colab_type": "text",
    "id": "SYtiuvWhFrYK",
    "outputExpanded": false
   },
   "source": [
    "## 2.1. Perform a Principal Component Analysis of the genes in your dataset (10 pts.)"
   ]
  },
  {
   "cell_type": "code",
   "execution_count": 16,
   "metadata": {
    "colab": {},
    "colab_type": "code",
    "id": "WdLJEnRd8Bcf",
    "outputExpanded": false
   },
   "outputs": [
    {
     "data": {
      "text/plain": [
       "(38, 7129)"
      ]
     },
     "execution_count": 16,
     "metadata": {},
     "output_type": "execute_result"
    }
   ],
   "source": [
    "### YOUR CODE HERE ###\n",
    "pca_model = skd.PCA().fit(df_train_norm.ix[:,:])\n",
    "pca_model.components_.shape"
   ]
  },
  {
   "cell_type": "markdown",
   "metadata": {
    "colab_type": "text",
    "id": "4d8la4jhGYli",
    "outputExpanded": false
   },
   "source": [
    "## 2.2. How much of the variance does each component explain? (2 pts.)"
   ]
  },
  {
   "cell_type": "code",
   "execution_count": 17,
   "metadata": {
    "colab": {},
    "colab_type": "code",
    "id": "3g_aOIWm8BcS",
    "outputExpanded": false
   },
   "outputs": [
    {
     "data": {
      "text/plain": [
       "array([1.09735759e+03, 8.76976485e+02, 4.83272186e+02, 3.57658145e+02,\n",
       "       3.39170426e+02, 2.72510227e+02, 2.55597771e+02, 2.40859971e+02,\n",
       "       2.18576598e+02, 1.93681882e+02, 1.83741623e+02, 1.72634428e+02,\n",
       "       1.61466953e+02, 1.52866654e+02, 1.42171050e+02, 1.38629132e+02,\n",
       "       1.35241393e+02, 1.25441555e+02, 1.24851480e+02, 1.20423734e+02,\n",
       "       1.12430908e+02, 1.11931494e+02, 1.06610477e+02, 1.04779826e+02,\n",
       "       1.03617441e+02, 1.00934278e+02, 9.86526997e+01, 9.56118071e+01,\n",
       "       9.54129156e+01, 9.14541425e+01, 8.49250449e+01, 8.17690665e+01,\n",
       "       7.56789591e+01, 7.30684864e+01, 6.76502725e+01, 6.28995436e+01,\n",
       "       6.11190279e+01, 2.16415626e-28])"
      ]
     },
     "execution_count": 17,
     "metadata": {},
     "output_type": "execute_result"
    }
   ],
   "source": [
    "### YOUR CODE HERE ###\n",
    "pca_model.explained_variance_"
   ]
  },
  {
   "cell_type": "markdown",
   "metadata": {
    "colab_type": "text",
    "id": "qX2GSpYO8Bcb",
    "outputExpanded": false
   },
   "source": [
    "(YOUR INTERPRETATION HERE)\n",
    "I extracted 38 components from the data. The interesting thing is that every component has explained larger than one variance. Thus, It's hard to determine the number of principal components to retain by dropping those principal components whose explained variance is smaller than 1. So I think I'd better use Screen Plot to help me make this decision."
   ]
  },
  {
   "cell_type": "markdown",
   "metadata": {
    "colab_type": "text",
    "id": "cIF4SzGiGws3",
    "outputExpanded": false
   },
   "source": [
    "## 2.3. What would be an appropriate number of components to keep? Why? (2 pts.)"
   ]
  },
  {
   "cell_type": "code",
   "execution_count": 57,
   "metadata": {
    "colab": {},
    "colab_type": "code",
    "id": "3g_aOIWm8BcS",
    "outputExpanded": false
   },
   "outputs": [
    {
     "data": {
      "text/plain": [
       "[<matplotlib.lines.Line2D at 0x1a25dabda0>]"
      ]
     },
     "execution_count": 57,
     "metadata": {},
     "output_type": "execute_result"
    },
    {
     "data": {
      "image/png": "[encoded data removed]",
      "text/plain": [
       "<Figure size 432x288 with 1 Axes>"
      ]
     },
     "metadata": {},
     "output_type": "display_data"
    }
   ],
   "source": [
    "### YOUR CODE HERE ###\n",
    "# screen plot\n",
    "plt.plot(range(1,39),pca_model.explained_variance_,'b-o')"
   ]
  },
  {
   "cell_type": "markdown",
   "metadata": {
    "colab_type": "text",
    "id": "qX2GSpYO8Bcb",
    "outputExpanded": false
   },
   "source": [
    "(YOUR INTERPRETATION HERE)From this scree plot, we can tell the \"elbow\" point is happening at PC4. Combined with the result of explained variance, I decided to keep three or four principle components. "
   ]
  },
  {
   "cell_type": "markdown",
   "metadata": {
    "colab_type": "text",
    "id": "uB5U8KqtHIGw",
    "outputExpanded": false
   },
   "source": [
    "## 2.4 Visualize your data in the reduced component space. What can you see from the visualization? (6 pts.)"
   ]
  },
  {
   "cell_type": "code",
   "execution_count": 18,
   "metadata": {
    "colab": {},
    "colab_type": "code",
    "id": "3g_aOIWm8BcS",
    "outputExpanded": false
   },
   "outputs": [
    {
     "data": {
      "image/png": "[encoded data removed]",
      "text/plain": [
       "<Figure size 576x432 with 1 Axes>"
      ]
     },
     "metadata": {},
     "output_type": "display_data"
    }
   ],
   "source": [
    "### YOUR CODE HERE ###\n",
    "# biplot\n",
    "# Scatterplot of disaggregated data\n",
    "from sklearn.decomposition import PCA as sklearnPCA\n",
    "pca = sklearnPCA(n_components=2)\n",
    "X_reduced  = pca.fit_transform(df_train_norm.ix[:,:])\n",
    "plt.figure(figsize=(8,6))\n",
    "plt.scatter(X_reduced[:,0], X_reduced[:,1])\n",
    "plt.xlabel('PC1')\n",
    "plt.ylabel('PC2')\n",
    "plt.title('PCA')\n",
    "# plt.ylim(-4, 6)\n",
    "\n",
    "for i, s in enumerate(df_train_norm.index):\n",
    "    plt.annotate(s, xy=X_reduced[i,:2]+0.05, fontsize=10)"
   ]
  },
  {
   "cell_type": "code",
   "execution_count": 171,
   "metadata": {},
   "outputs": [
    {
     "data": {
      "text/plain": [
       "<Figure size 432x288 with 0 Axes>"
      ]
     },
     "metadata": {},
     "output_type": "display_data"
    },
    {
     "data": {
      "image/png": "[encoded data removed]",
      "text/plain": [
       "<Figure size 864x576 with 1 Axes>"
      ]
     },
     "metadata": {},
     "output_type": "display_data"
    }
   ],
   "source": [
    "from sklearn.decomposition import PCA as sklearnPCA\n",
    "sklearn_pca = sklearnPCA(n_components=3)\n",
    "X_reduced_3  = sklearn_pca.fit_transform(df_train_norm.ix[:,:])\n",
    "from mpl_toolkits.mplot3d import Axes3D\n",
    "plt.clf()\n",
    "fig = plt.figure(2, figsize=(12,8 ))\n",
    "ax = Axes3D(fig, elev=-150, azim=110,)\n",
    "ax.scatter(X_reduced_3[:, 0], X_reduced_3[:, 1], X_reduced_3[:, 2],cmap=plt.cm.Paired,linewidths=10)\n",
    "ax.set_title(\"First three PCA directions\")\n",
    "ax.set_xlabel(\"1st eigenvector\")\n",
    "ax.w_xaxis.set_ticklabels([])\n",
    "ax.set_ylabel(\"2nd eigenvector\")\n",
    "ax.w_yaxis.set_ticklabels([])\n",
    "ax.set_zlabel(\"3rd eigenvector\")\n",
    "ax.w_zaxis.set_ticklabels([])\n",
    "\n",
    "for i, s in enumerate(df_train_norm.index):\n",
    "    x, y, _ = proj3d.proj_transform(X_reduced_3[i,0],X_reduced_3[i,1],X_reduced_3[i,2],\n",
    "                                    ax.get_proj())\n",
    "    plt.annotate(s, xy=(x-0.005,y+0.002), fontsize=10)"
   ]
  },
  {
   "cell_type": "markdown",
   "metadata": {
    "colab_type": "text",
    "id": "qX2GSpYO8Bcb",
    "outputExpanded": false
   },
   "source": [
    "(YOUR INTERPRETATION HERE)\n",
    "(YOUR INTERPRETATION HERE)\n",
    "### Explain:\n",
    "\n",
    "* I marked the \"AML\" patient with orange dots while blue dots represent the \"ALL\" patients. \n",
    "* When the principle components are two, I find the AML patients all have lower PC2, more specific, lower than 0. And their PC1 values tend to be center around 0 to 40. However, I find two components can't represent the data very well; for \"ALL\" patients, their distribution is kind of messy.\n",
    "* Thus, I tried out three PCs to plot the data, and the result is much better. I can tell a relatively clear boundray between \"ALL\" patients and \"AML\" patients.\n"
   ]
  },
  {
   "cell_type": "markdown",
   "metadata": {},
   "source": [
    "![](pca2_pca3.png)"
   ]
  },
  {
   "cell_type": "markdown",
   "metadata": {
    "colab_type": "text",
    "id": "EO5dFpbYpuVF",
    "outputExpanded": false
   },
   "source": [
    "# Part 3: Exploratory Factor Analysis"
   ]
  },
  {
   "cell_type": "markdown",
   "metadata": {
    "colab_type": "text",
    "id": "kblwcTHdIJb6",
    "outputExpanded": false
   },
   "source": [
    "## 3.1. Create factor model with two factors and compare it to your PCA results. What are the similarities and differences? (10 pts.)"
   ]
  },
  {
   "cell_type": "code",
   "execution_count": 19,
   "metadata": {
    "colab": {},
    "colab_type": "code",
    "id": "3g_aOIWm8BcS",
    "outputExpanded": false
   },
   "outputs": [
    {
     "data": {
      "text/plain": [
       "<seaborn.matrix.ClusterGrid at 0x1a251bef60>"
      ]
     },
     "execution_count": 19,
     "metadata": {},
     "output_type": "execute_result"
    },
    {
     "data": {
      "image/png": "[encoded data removed]",
      "text/plain": [
       "<Figure size 720x720 with 4 Axes>"
      ]
     },
     "metadata": {},
     "output_type": "display_data"
    }
   ],
   "source": [
    "### YOUR CODE HERE ###\n",
    "# build a 2-factor model\n",
    "fa_model = skd.FactorAnalysis(n_components=2).fit(df_train_norm.ix[:,:].T)\n",
    "fa_model.components_\n",
    "# Show the loadings\n",
    "df_loadings = pd.DataFrame(fa_model.components_.T, \n",
    "             index=df_train_norm.index,\n",
    "             columns=['Factor1', 'Factor2'])\n",
    "# # Visualize the factor loading matrix\n",
    "sns.clustermap(df_loadings)"
   ]
  },
  {
   "cell_type": "code",
   "execution_count": 20,
   "metadata": {},
   "outputs": [
    {
     "data": {
      "text/plain": [
       "<seaborn.matrix.ClusterGrid at 0x1a250ea860>"
      ]
     },
     "execution_count": 20,
     "metadata": {},
     "output_type": "execute_result"
    },
    {
     "data": {
      "image/png": "[encoded data removed]",
      "text/plain": [
       "<Figure size 720x720 with 4 Axes>"
      ]
     },
     "metadata": {},
     "output_type": "display_data"
    }
   ],
   "source": [
    "# Show the principcal components\n",
    "X_pca_2 = skd.PCA(n_components=2).fit(df_train_norm.ix[:,:].T)\n",
    "pca_components = pd.DataFrame(X_pca_2.components_.T, \n",
    "             index=df_train_norm.index,\n",
    "             columns=['PC1', 'PC2'])\n",
    "sns.clustermap(pca_components)"
   ]
  },
  {
   "cell_type": "code",
   "execution_count": 196,
   "metadata": {},
   "outputs": [
    {
     "data": {
      "text/html": [
       "<div>\n",
       "<style scoped>\n",
       "    .dataframe tbody tr th:only-of-type {\n",
       "        vertical-align: middle;\n",
       "    }\n",
       "\n",
       "    .dataframe tbody tr th {\n",
       "        vertical-align: top;\n",
       "    }\n",
       "\n",
       "    .dataframe thead th {\n",
       "        text-align: right;\n",
       "    }\n",
       "</style>\n",
       "<table border=\"1\" class=\"dataframe\">\n",
       "  <thead>\n",
       "    <tr style=\"text-align: right;\">\n",
       "      <th></th>\n",
       "      <th>Factor1</th>\n",
       "      <th>Factor2</th>\n",
       "      <th>PC1</th>\n",
       "      <th>PC2</th>\n",
       "    </tr>\n",
       "  </thead>\n",
       "  <tbody>\n",
       "    <tr>\n",
       "      <th>1</th>\n",
       "      <td>-0.189215</td>\n",
       "      <td>-0.173996</td>\n",
       "      <td>-0.080787</td>\n",
       "      <td>-0.064332</td>\n",
       "    </tr>\n",
       "    <tr>\n",
       "      <th>2</th>\n",
       "      <td>0.094481</td>\n",
       "      <td>-0.025506</td>\n",
       "      <td>0.049304</td>\n",
       "      <td>-0.034850</td>\n",
       "    </tr>\n",
       "    <tr>\n",
       "      <th>3</th>\n",
       "      <td>-0.546776</td>\n",
       "      <td>-0.327748</td>\n",
       "      <td>-0.237648</td>\n",
       "      <td>-0.134980</td>\n",
       "    </tr>\n",
       "    <tr>\n",
       "      <th>4</th>\n",
       "      <td>-0.182471</td>\n",
       "      <td>-0.106207</td>\n",
       "      <td>-0.078647</td>\n",
       "      <td>-0.028138</td>\n",
       "    </tr>\n",
       "    <tr>\n",
       "      <th>5</th>\n",
       "      <td>0.540016</td>\n",
       "      <td>-0.220358</td>\n",
       "      <td>0.226816</td>\n",
       "      <td>-0.094986</td>\n",
       "    </tr>\n",
       "    <tr>\n",
       "      <th>6</th>\n",
       "      <td>0.007055</td>\n",
       "      <td>0.099727</td>\n",
       "      <td>0.013630</td>\n",
       "      <td>0.083380</td>\n",
       "    </tr>\n",
       "    <tr>\n",
       "      <th>7</th>\n",
       "      <td>-0.299340</td>\n",
       "      <td>-0.022780</td>\n",
       "      <td>-0.130376</td>\n",
       "      <td>0.020757</td>\n",
       "    </tr>\n",
       "    <tr>\n",
       "      <th>8</th>\n",
       "      <td>-0.658147</td>\n",
       "      <td>-0.074445</td>\n",
       "      <td>-0.306229</td>\n",
       "      <td>-0.030491</td>\n",
       "    </tr>\n",
       "    <tr>\n",
       "      <th>9</th>\n",
       "      <td>-0.155293</td>\n",
       "      <td>-0.324195</td>\n",
       "      <td>-0.057068</td>\n",
       "      <td>-0.162061</td>\n",
       "    </tr>\n",
       "    <tr>\n",
       "      <th>10</th>\n",
       "      <td>0.211440</td>\n",
       "      <td>0.112512</td>\n",
       "      <td>0.096438</td>\n",
       "      <td>0.060901</td>\n",
       "    </tr>\n",
       "    <tr>\n",
       "      <th>11</th>\n",
       "      <td>0.191105</td>\n",
       "      <td>-0.042106</td>\n",
       "      <td>0.097788</td>\n",
       "      <td>-0.009121</td>\n",
       "    </tr>\n",
       "    <tr>\n",
       "      <th>12</th>\n",
       "      <td>0.354160</td>\n",
       "      <td>0.364202</td>\n",
       "      <td>0.153617</td>\n",
       "      <td>0.185072</td>\n",
       "    </tr>\n",
       "    <tr>\n",
       "      <th>13</th>\n",
       "      <td>0.469376</td>\n",
       "      <td>-0.251402</td>\n",
       "      <td>0.202693</td>\n",
       "      <td>-0.137572</td>\n",
       "    </tr>\n",
       "    <tr>\n",
       "      <th>14</th>\n",
       "      <td>0.140096</td>\n",
       "      <td>-0.119388</td>\n",
       "      <td>0.067958</td>\n",
       "      <td>-0.048014</td>\n",
       "    </tr>\n",
       "    <tr>\n",
       "      <th>15</th>\n",
       "      <td>0.521951</td>\n",
       "      <td>-0.295292</td>\n",
       "      <td>0.222154</td>\n",
       "      <td>-0.134408</td>\n",
       "    </tr>\n",
       "    <tr>\n",
       "      <th>16</th>\n",
       "      <td>0.207578</td>\n",
       "      <td>-0.102532</td>\n",
       "      <td>0.091868</td>\n",
       "      <td>-0.054873</td>\n",
       "    </tr>\n",
       "    <tr>\n",
       "      <th>17</th>\n",
       "      <td>-0.477745</td>\n",
       "      <td>-0.604360</td>\n",
       "      <td>-0.262082</td>\n",
       "      <td>-0.545404</td>\n",
       "    </tr>\n",
       "    <tr>\n",
       "      <th>18</th>\n",
       "      <td>0.315875</td>\n",
       "      <td>0.130764</td>\n",
       "      <td>0.136879</td>\n",
       "      <td>0.077746</td>\n",
       "    </tr>\n",
       "    <tr>\n",
       "      <th>19</th>\n",
       "      <td>0.388394</td>\n",
       "      <td>0.141124</td>\n",
       "      <td>0.167238</td>\n",
       "      <td>0.059961</td>\n",
       "    </tr>\n",
       "    <tr>\n",
       "      <th>20</th>\n",
       "      <td>0.284520</td>\n",
       "      <td>-0.739035</td>\n",
       "      <td>0.151313</td>\n",
       "      <td>-0.547054</td>\n",
       "    </tr>\n",
       "    <tr>\n",
       "      <th>21</th>\n",
       "      <td>0.598437</td>\n",
       "      <td>0.039030</td>\n",
       "      <td>0.307004</td>\n",
       "      <td>0.010951</td>\n",
       "    </tr>\n",
       "    <tr>\n",
       "      <th>22</th>\n",
       "      <td>0.108344</td>\n",
       "      <td>0.225740</td>\n",
       "      <td>0.056108</td>\n",
       "      <td>0.135283</td>\n",
       "    </tr>\n",
       "    <tr>\n",
       "      <th>23</th>\n",
       "      <td>0.017460</td>\n",
       "      <td>0.139823</td>\n",
       "      <td>0.021394</td>\n",
       "      <td>0.096487</td>\n",
       "    </tr>\n",
       "    <tr>\n",
       "      <th>24</th>\n",
       "      <td>0.178489</td>\n",
       "      <td>-0.322201</td>\n",
       "      <td>0.084832</td>\n",
       "      <td>-0.137320</td>\n",
       "    </tr>\n",
       "    <tr>\n",
       "      <th>25</th>\n",
       "      <td>0.212787</td>\n",
       "      <td>0.237392</td>\n",
       "      <td>0.091722</td>\n",
       "      <td>0.113095</td>\n",
       "    </tr>\n",
       "    <tr>\n",
       "      <th>26</th>\n",
       "      <td>0.280198</td>\n",
       "      <td>0.031790</td>\n",
       "      <td>0.122729</td>\n",
       "      <td>0.013138</td>\n",
       "    </tr>\n",
       "    <tr>\n",
       "      <th>27</th>\n",
       "      <td>-0.515681</td>\n",
       "      <td>-0.011478</td>\n",
       "      <td>-0.249029</td>\n",
       "      <td>-0.033139</td>\n",
       "    </tr>\n",
       "    <tr>\n",
       "      <th>34</th>\n",
       "      <td>-0.204931</td>\n",
       "      <td>0.109089</td>\n",
       "      <td>-0.083735</td>\n",
       "      <td>0.072072</td>\n",
       "    </tr>\n",
       "    <tr>\n",
       "      <th>35</th>\n",
       "      <td>-0.151665</td>\n",
       "      <td>0.216015</td>\n",
       "      <td>-0.060529</td>\n",
       "      <td>0.137500</td>\n",
       "    </tr>\n",
       "    <tr>\n",
       "      <th>36</th>\n",
       "      <td>-0.278768</td>\n",
       "      <td>0.171365</td>\n",
       "      <td>-0.133302</td>\n",
       "      <td>0.146884</td>\n",
       "    </tr>\n",
       "    <tr>\n",
       "      <th>37</th>\n",
       "      <td>-0.242148</td>\n",
       "      <td>0.345544</td>\n",
       "      <td>-0.110815</td>\n",
       "      <td>0.195571</td>\n",
       "    </tr>\n",
       "    <tr>\n",
       "      <th>38</th>\n",
       "      <td>-0.215462</td>\n",
       "      <td>0.250031</td>\n",
       "      <td>-0.094286</td>\n",
       "      <td>0.131452</td>\n",
       "    </tr>\n",
       "    <tr>\n",
       "      <th>28</th>\n",
       "      <td>-0.166474</td>\n",
       "      <td>0.152634</td>\n",
       "      <td>-0.073034</td>\n",
       "      <td>0.087358</td>\n",
       "    </tr>\n",
       "    <tr>\n",
       "      <th>29</th>\n",
       "      <td>0.553078</td>\n",
       "      <td>0.374789</td>\n",
       "      <td>0.239588</td>\n",
       "      <td>0.177117</td>\n",
       "    </tr>\n",
       "    <tr>\n",
       "      <th>30</th>\n",
       "      <td>-0.095812</td>\n",
       "      <td>0.162074</td>\n",
       "      <td>-0.048691</td>\n",
       "      <td>0.091387</td>\n",
       "    </tr>\n",
       "    <tr>\n",
       "      <th>31</th>\n",
       "      <td>-0.138532</td>\n",
       "      <td>0.187743</td>\n",
       "      <td>-0.054653</td>\n",
       "      <td>0.120550</td>\n",
       "    </tr>\n",
       "    <tr>\n",
       "      <th>32</th>\n",
       "      <td>-0.357792</td>\n",
       "      <td>0.058721</td>\n",
       "      <td>-0.159780</td>\n",
       "      <td>0.038281</td>\n",
       "    </tr>\n",
       "    <tr>\n",
       "      <th>33</th>\n",
       "      <td>-0.798587</td>\n",
       "      <td>0.212920</td>\n",
       "      <td>-0.380385</td>\n",
       "      <td>0.141802</td>\n",
       "    </tr>\n",
       "  </tbody>\n",
       "</table>\n",
       "</div>"
      ],
      "text/plain": [
       "     Factor1   Factor2       PC1       PC2\n",
       "1  -0.189215 -0.173996 -0.080787 -0.064332\n",
       "2   0.094481 -0.025506  0.049304 -0.034850\n",
       "3  -0.546776 -0.327748 -0.237648 -0.134980\n",
       "4  -0.182471 -0.106207 -0.078647 -0.028138\n",
       "5   0.540016 -0.220358  0.226816 -0.094986\n",
       "6   0.007055  0.099727  0.013630  0.083380\n",
       "7  -0.299340 -0.022780 -0.130376  0.020757\n",
       "8  -0.658147 -0.074445 -0.306229 -0.030491\n",
       "9  -0.155293 -0.324195 -0.057068 -0.162061\n",
       "10  0.211440  0.112512  0.096438  0.060901\n",
       "11  0.191105 -0.042106  0.097788 -0.009121\n",
       "12  0.354160  0.364202  0.153617  0.185072\n",
       "13  0.469376 -0.251402  0.202693 -0.137572\n",
       "14  0.140096 -0.119388  0.067958 -0.048014\n",
       "15  0.521951 -0.295292  0.222154 -0.134408\n",
       "16  0.207578 -0.102532  0.091868 -0.054873\n",
       "17 -0.477745 -0.604360 -0.262082 -0.545404\n",
       "18  0.315875  0.130764  0.136879  0.077746\n",
       "19  0.388394  0.141124  0.167238  0.059961\n",
       "20  0.284520 -0.739035  0.151313 -0.547054\n",
       "21  0.598437  0.039030  0.307004  0.010951\n",
       "22  0.108344  0.225740  0.056108  0.135283\n",
       "23  0.017460  0.139823  0.021394  0.096487\n",
       "24  0.178489 -0.322201  0.084832 -0.137320\n",
       "25  0.212787  0.237392  0.091722  0.113095\n",
       "26  0.280198  0.031790  0.122729  0.013138\n",
       "27 -0.515681 -0.011478 -0.249029 -0.033139\n",
       "34 -0.204931  0.109089 -0.083735  0.072072\n",
       "35 -0.151665  0.216015 -0.060529  0.137500\n",
       "36 -0.278768  0.171365 -0.133302  0.146884\n",
       "37 -0.242148  0.345544 -0.110815  0.195571\n",
       "38 -0.215462  0.250031 -0.094286  0.131452\n",
       "28 -0.166474  0.152634 -0.073034  0.087358\n",
       "29  0.553078  0.374789  0.239588  0.177117\n",
       "30 -0.095812  0.162074 -0.048691  0.091387\n",
       "31 -0.138532  0.187743 -0.054653  0.120550\n",
       "32 -0.357792  0.058721 -0.159780  0.038281\n",
       "33 -0.798587  0.212920 -0.380385  0.141802"
      ]
     },
     "execution_count": 196,
     "metadata": {},
     "output_type": "execute_result"
    }
   ],
   "source": [
    "df_loadings[\"PC1\"] = pca_components[\"PC1\"]\n",
    "df_loadings[\"PC2\"] = pca_components[\"PC2\"]\n",
    "df_loadings"
   ]
  },
  {
   "cell_type": "markdown",
   "metadata": {
    "colab_type": "text",
    "id": "qX2GSpYO8Bcb",
    "outputExpanded": false
   },
   "source": [
    "(YOUR INTERPRETATION HERE)\n",
    "### Explain:\n",
    "* From the above dataframe we can tell, for each patient, the loadings are similar with the PCA's values.\n",
    "* Comparing two cluster heatmap, we can find the similariteis of the results of two methods. It seems like that:\n",
    "    * Factor1 show high correlation loadings with 3,17,33,8,27 while PC1 shows similar relationships with these patients. \n",
    "    * Factor2 is highly related with patient 17, 20 while PC2 has same correlation with these two subjects.\n",
    "* Even though the general distribution of similarities seems similar, we can't tell any meaningful patterns from these two results."
   ]
  },
  {
   "cell_type": "markdown",
   "metadata": {},
   "source": [
    "![](pca_vs_fa.png)"
   ]
  },
  {
   "cell_type": "markdown",
   "metadata": {
    "colab_type": "text",
    "id": "-I_ZkGnSI0ll",
    "outputExpanded": false
   },
   "source": [
    "## 3.2. Create another factor model with an additional factor and compare it to the first. What might the factors represent? (10 pts.)"
   ]
  },
  {
   "cell_type": "code",
   "execution_count": 200,
   "metadata": {
    "colab": {},
    "colab_type": "code",
    "id": "3g_aOIWm8BcS",
    "outputExpanded": false
   },
   "outputs": [],
   "source": [
    "### YOUR CODE HERE ###\n",
    "# build a 3-factor model\n",
    "fa_model_3 = skd.FactorAnalysis(n_components=3).fit(df_train_norm.ix[:,:].T)\n",
    "\n",
    "# Show the loadings\n",
    "df_loadings_3 = pd.DataFrame(fa_model_3.components_.T, \n",
    "             index=df_train_norm.index,\n",
    "             columns=['Factor1', 'Factor2', 'Factor3'])\n",
    "# # Visualize the factor loading matrix\n",
    "# sns.clustermap(df_loadings_3)"
   ]
  },
  {
   "cell_type": "markdown",
   "metadata": {
    "colab_type": "text",
    "id": "ixClmTSy8BdL",
    "outputExpanded": false
   },
   "source": [
    "(YOUR INTERPRETATION HERE)\n",
    "### Explain:\n",
    "* Let's have a look at the following two plots, where are the cluster heatmap.\n",
    "* Generally, no matter it is a two-factors model or three-factors model, there are one subject - 17 is highly correlated with all these factors. So I made an assumption that the subejct 17 contains some genes that are related with \"cancer\"，no matter it is AML or ALL.\n",
    "* In the two-factor model, we can tell the AML patients are highly related with Factor1 while in the three-factors model, Factor1 and Factor3 strongly influence them. \n",
    "* I also notice that subject 20 is highly related with Factor2 in two-factor model while strongly influenced by Factor 2 and 3 in the three-factors model. And combined with the overall distribution of color. I guess that Factor 2 in three-factors model may be correlated with ALL patient. \n",
    "* Another interesting thing is that I found subjects 3, 17, and 8 (they are all \"ALL\" patients) are highly correlated with Factor1 and Factor 2.\n",
    "* I still feel that it's a little bit messy to explain, but much better when I added one more factor.\n",
    "* I think maybe there some subgroups under each cancer type.\n",
    "\n",
    "#### What might the factors represent?\n",
    "To figure out what the factors might represent, I did some background research. And I found that these two cancers have their characteristic disease genes so these factors could be these gene groups. What's more, some genes are responsible for both two cancers happening which could explain why some factors show high correlations with both ALL and AML patients. "
   ]
  },
  {
   "cell_type": "markdown",
   "metadata": {},
   "source": [
    "![](fa2_fa3.png)\n",
    "![](genetic.png)"
   ]
  },
  {
   "cell_type": "markdown",
   "metadata": {
    "colab_type": "text",
    "id": "SPxOzCA3Jec5",
    "outputExpanded": false
   },
   "source": [
    "# Part 4: Clustering"
   ]
  },
  {
   "cell_type": "markdown",
   "metadata": {
    "colab_type": "text",
    "id": "OhRFF7clJ4IL",
    "outputExpanded": false
   },
   "source": [
    "## 4.1. Perform a cluster analysis on your data. Visualize the results in 2D or 3D using PCA. (10 pts.)"
   ]
  },
  {
   "cell_type": "markdown",
   "metadata": {
    "outputExpanded": false
   },
   "source": [
    "- Apply dimension reduction on the data (5 pts.)\n",
    "- Choose your clustering algorithm and tune the parameter (5 pts.)"
   ]
  },
  {
   "cell_type": "code",
   "execution_count": 68,
   "metadata": {},
   "outputs": [
    {
     "name": "stdout",
     "output_type": "stream",
     "text": [
      "4.358898943540674\n"
     ]
    },
    {
     "data": {
      "text/plain": [
       "(1, 14.6)"
      ]
     },
     "execution_count": 68,
     "metadata": {},
     "output_type": "execute_result"
    },
    {
     "data": {
      "image/png": "[encoded data removed]",
      "text/plain": [
       "<Figure size 720x360 with 1 Axes>"
      ]
     },
     "metadata": {},
     "output_type": "display_data"
    },
    {
     "data": {
      "image/png": "[encoded data removed]",
      "text/plain": [
       "<Figure size 720x360 with 1 Axes>"
      ]
     },
     "metadata": {},
     "output_type": "display_data"
    }
   ],
   "source": [
    "# Educated guessing - What are some criteria you could use?\n",
    "# Rule of thumb\n",
    "# The Elbow Method\n",
    "# The Silhouette Approach\n",
    "from sklearn import metrics\n",
    "from sklearn.cluster import KMeans\n",
    "\n",
    "# Rule of Thumb \n",
    "k = np.sqrt(38/2)\n",
    "print(k)\n",
    " \n",
    "# elbow\n",
    "df_elbow = df_train_norm.copy()\n",
    "elbow_score = []\n",
    "for k in range(2,15):\n",
    "#  Different initializations can result in different solutions\n",
    "    k_means = KMeans(init='k-means++', n_clusters=k, n_init=2)\n",
    "    k_means.fit(df_elbow)\n",
    "    elbow_score.append(k_means.inertia_)\n",
    "\n",
    "# sihouette\n",
    "df_sihouette = df_train_norm.copy()\n",
    "sihouette_score = []\n",
    "for k in range(2,15):\n",
    "    k_means = KMeans(init='k-means++', n_clusters=k, n_init=2)\n",
    "    k_means.fit(df_sihouette)\n",
    "    sihouette_score.append(metrics.silhouette_score(df_sihouette, k_means.labels_))\n",
    "\n",
    "score = pd.DataFrame()\n",
    "score['elbow'] = elbow_score\n",
    "score['sihouette'] = sihouette_score\n",
    "\n",
    "fig, ax = plt.subplots()\n",
    "fig.set_size_inches(10,5)\n",
    "plt.plot(range(2,15), score['elbow'], 'b*-')\n",
    "plt.xlim(1, plt.xlim()[1])\n",
    "\n",
    "fig, ax = plt.subplots()\n",
    "fig.set_size_inches(10,5)\n",
    "plt.plot(range(2,15), score['sihouette'], 'b*-')\n",
    "plt.xlim(1, plt.xlim()[1])"
   ]
  },
  {
   "cell_type": "markdown",
   "metadata": {},
   "source": [
    "### How many clusters?\n",
    "From the above calculations and combined with the explained variance values provided by PCA method, I decided to select four clusters.\n",
    "\n",
    "### Which clustering algorithm I selected?\n",
    "I tried the kmeans and hierarchy clustering."
   ]
  },
  {
   "cell_type": "code",
   "execution_count": 69,
   "metadata": {},
   "outputs": [
    {
     "data": {
      "image/png": "[encoded data removed]",
      "text/plain": [
       "<Figure size 432x288 with 1 Axes>"
      ]
     },
     "metadata": {},
     "output_type": "display_data"
    },
    {
     "name": "stdout",
     "output_type": "stream",
     "text": [
      "[[ 25.447378   -11.86556162]\n",
      " [-26.69625616   1.03688825]\n",
      " [  2.09591145 112.44518985]\n",
      " [ 72.52752965  69.56848096]]\n"
     ]
    }
   ],
   "source": [
    "df_reduced = skd.PCA(n_components=2).fit_transform(df_train_norm)\n",
    "# .fit(df_train_norm.ix[:,:].T)\n",
    "kmeans = KMeans(init='k-means++', n_clusters=4, n_init=1)\n",
    "kmeans.fit(df_reduced)\n",
    "\n",
    "# Step size of the mesh. Decrease to increase the quality of the VQ.\n",
    "h = .02     # point in the mesh [x_min, x_max]x[y_min, y_max].\n",
    "# Plot the decision boundary. For that, we will assign a color to each\n",
    "\n",
    "x_min, x_max = df_reduced[:, 0].min() - 1, df_reduced[:, 0].max() + 1\n",
    "y_min, y_max = df_reduced[:, 1].min() - 1, df_reduced[:, 1].max() + 1\n",
    "xx, yy = np.meshgrid(np.arange(x_min, x_max, h), np.arange(y_min, y_max, h))\n",
    "\n",
    "# Obtain labels for each point in mesh. Use last trained model.\n",
    "Z = kmeans.predict(np.c_[xx.ravel(), yy.ravel()])\n",
    "\n",
    "# Put the result into a color plot\n",
    "Z = Z.reshape(xx.shape)\n",
    "plt.figure(1)\n",
    "plt.clf()\n",
    "plt.imshow(Z, interpolation='nearest',\n",
    "           extent=(xx.min(), xx.max(), yy.min(), yy.max()),\n",
    "           cmap=plt.cm.Paired,\n",
    "           aspect='auto', origin='lower')\n",
    "\n",
    "plt.plot(df_reduced[:, 0], df_reduced[:, 1],'.k', markersize=2)\n",
    "\n",
    "# Plot the centroids as a white X\n",
    "centroids = kmeans.cluster_centers_\n",
    "plt.scatter(centroids[:, 0], centroids[:, 1],\n",
    "            marker='x', s=169, linewidths=3,\n",
    "            color='w', zorder=10)\n",
    "\n",
    "plt.xlim(x_min, x_max)\n",
    "plt.ylim(y_min, y_max)\n",
    "plt.xticks(())\n",
    "plt.yticks(())\n",
    "\n",
    "for i, s in enumerate(df_train_norm.index):\n",
    "    plt.annotate(s, xy=df_reduced[i,:2]+0.05, fontsize=10)\n",
    "plt.show()\n",
    "print(centroids)"
   ]
  },
  {
   "cell_type": "code",
   "execution_count": 91,
   "metadata": {
    "colab": {},
    "colab_type": "code",
    "id": "3g_aOIWm8BcS",
    "outputExpanded": false
   },
   "outputs": [
    {
     "data": {
      "image/png": "[encoded data removed]",
      "text/plain": [
       "<Figure size 576x720 with 1 Axes>"
      ]
     },
     "metadata": {},
     "output_type": "display_data"
    },
    {
     "name": "stdout",
     "output_type": "stream",
     "text": [
      "group one:  [6, 23, 28, 29, 36]\n",
      "group two:  [30, 31, 32, 33, 35, 37, 38]\n",
      "group three:  [1, 3, 4, 7, 8, 9, 17, 27]\n",
      "group four:  [10, 12, 16, 18, 19, 21, 22, 25, 26, 34]\n",
      "group five:  [2, 5, 11, 13, 14, 15, 20, 24]\n"
     ]
    }
   ],
   "source": [
    "### YOUR CODE HERE ###\n",
    "from sklearn.metrics.pairwise import cosine_similarity\n",
    "from scipy.cluster.hierarchy import single, complete, average, ward, dendrogram\n",
    "dist = 1 - cosine_similarity(df_train_norm)\n",
    "# Compare different loss/linkage functions \n",
    "# Ward\n",
    "linkage_matrix_ward = ward(dist)\n",
    "fig, ax = plt.subplots(figsize=(8, 10))\n",
    "ax = dendrogram(linkage_matrix_ward, orientation=\"right\");\n",
    "\n",
    "plt.tick_params(axis='x', which='both', bottom='on', top='off', labelbottom='off')\n",
    "plt.tight_layout()\n",
    "plt.show()\n",
    "\n",
    "from scipy.cluster.hierarchy import fcluster\n",
    "fcluster = fcluster(linkage_matrix_ward, 5, criterion='maxclust')\n",
    "i = 1\n",
    "cluster_list = []\n",
    "for cluster in fcluster:\n",
    "    cluster_list.append((i,cluster))\n",
    "    i +=1\n",
    "one = []\n",
    "two = []\n",
    "three = []\n",
    "four = []\n",
    "five = []\n",
    "for item in cluster_list:\n",
    "    if item[-1] == 1:\n",
    "        one.append(item[0])\n",
    "    if item[-1] == 2:\n",
    "        two.append(item[0])\n",
    "    if item[-1] == 3:\n",
    "        three.append(item[0])\n",
    "    if item[-1] == 4:\n",
    "        four.append(item[0])\n",
    "    if item[-1] == 5:\n",
    "        five.append(item[0])\n",
    "print(\"group one: \", one)\n",
    "print(\"group two: \", two)\n",
    "print(\"group three: \", three)\n",
    "print(\"group four: \", four)\n",
    "print(\"group five: \", five)"
   ]
  },
  {
   "cell_type": "code",
   "execution_count": 92,
   "metadata": {},
   "outputs": [
    {
     "name": "stdout",
     "output_type": "stream",
     "text": [
      "group one:  ['ALL', 'ALL', 'AML', 'AML', 'AML']\n",
      "group two:  ['AML', 'AML', 'AML', 'AML', 'AML', 'AML', 'AML']\n",
      "group three:  ['ALL', 'ALL', 'ALL', 'ALL', 'ALL', 'ALL', 'ALL', 'ALL']\n",
      "group four:  ['ALL', 'ALL', 'ALL', 'ALL', 'ALL', 'ALL', 'ALL', 'ALL', 'ALL', 'AML']\n",
      "group five:  ['ALL', 'ALL', 'ALL', 'ALL', 'ALL', 'ALL', 'ALL', 'ALL']\n"
     ]
    }
   ],
   "source": [
    "one_cancer_type = []\n",
    "two_cancer_type = []\n",
    "three_cancer_type = []\n",
    "four_cancer_type = []\n",
    "five_cancer_type = []\n",
    "for p in one:\n",
    "    p = p-1\n",
    "    one_cancer_type.append(df_label.iloc[p].cancer)\n",
    "for p in two:\n",
    "    p = p-1\n",
    "    two_cancer_type.append(df_label.iloc[p].cancer)\n",
    "for p in three:\n",
    "    p = p-1\n",
    "    three_cancer_type.append(df_label.iloc[p].cancer)\n",
    "for p in four:\n",
    "    p = p-1\n",
    "    four_cancer_type.append(df_label.iloc[p].cancer)\n",
    "for p in five:\n",
    "    p = p-1\n",
    "    five_cancer_type.append(df_label.iloc[p].cancer)\n",
    "print(\"group one: \", one_cancer_type)\n",
    "print(\"group two: \", two_cancer_type)\n",
    "print(\"group three: \", three_cancer_type)\n",
    "print(\"group four: \", four_cancer_type)\n",
    "print(\"group five: \", five_cancer_type)\n"
   ]
  },
  {
   "cell_type": "markdown",
   "metadata": {
    "colab_type": "text",
    "id": "qX2GSpYO8Bcb",
    "outputExpanded": false
   },
   "source": [
    "(YOUR INTERPRETATION HERE)\n",
    "* How many clusters?\n",
    "From the above calculations and combined with the explained variance values provided by PCA method, I decided to select four clusters.\n",
    "* Which clustering algorithm I selected?\n",
    "    * I tried the kmeans and hierarchy clustering.\n",
    "    * Kmeans' result vs hierarchy's. I think hierarchy method gave me better clustering results.\n",
    "    * For the number of clusters, I have tried four but the result wasn't good so then I tries five, which was better, as shown in the following:\n",
    "        * group one:  ['ALL', 'ALL', 'AML', 'AML', 'AML']\n",
    "        * group two:  ['AML', 'AML', 'AML', 'AML', 'AML', 'AML', 'AML']\n",
    "        * group three:  ['ALL', 'ALL', 'ALL', 'ALL', 'ALL', 'ALL', 'ALL', 'ALL']\n",
    "        * group four:  ['ALL', 'ALL', 'ALL', 'ALL', 'ALL', 'ALL', 'ALL', 'ALL', 'ALL', 'AML']\n",
    "        * group five:  ['ALL', 'ALL', 'ALL', 'ALL', 'ALL', 'ALL', 'ALL', 'ALL']"
   ]
  },
  {
   "cell_type": "markdown",
   "metadata": {
    "colab_type": "text",
    "id": "R-16W7dkLY6w",
    "outputExpanded": false
   },
   "source": [
    "## 4.2. Which clusters can you identify? What does your cluster analysis tell you about the data? (10 pts.)\n",
    "- Visualize your results with the test data(5 pts.)\n",
    "- Interprete your results (5 pts.)"
   ]
  },
  {
   "cell_type": "code",
   "execution_count": 109,
   "metadata": {},
   "outputs": [
    {
     "data": {
      "image/png": "[encoded data removed]",
      "text/plain": [
       "<Figure size 576x720 with 1 Axes>"
      ]
     },
     "metadata": {},
     "output_type": "display_data"
    }
   ],
   "source": [
    "import sklearn.preprocessing as skp\n",
    "df_test_norm = df_test.copy()\n",
    "df_test_norm.ix[:,:] = skp.scale(df_test_norm.ix[:,:].astype(np.float))\n",
    "df_test_norm.head()\n",
    "\n",
    "train_PCA = skd.PCA(n_components=4).fit(df_train_norm)\n",
    "df_test_reduced = train_PCA.transform(df_test_norm)\n",
    "\n",
    "dist = 1 - cosine_similarity(df_test_reduced)\n",
    "linkage_matrix_ward = ward(dist)\n",
    "fig, ax = plt.subplots(figsize=(8, 10))\n",
    "ax = dendrogram(linkage_matrix_ward, orientation=\"right\");\n",
    "\n",
    "plt.tick_params(axis='x', which='both', bottom='on', top='off', labelbottom='off')\n",
    "plt.tight_layout()\n",
    "plt.show()"
   ]
  },
  {
   "cell_type": "code",
   "execution_count": 111,
   "metadata": {},
   "outputs": [
    {
     "name": "stdout",
     "output_type": "stream",
     "text": [
      "[4 4 3 1 3 5 1 1 1 1 1 2 1 3 3 3 1 2 4 2 2 5 5 5 3 2 5 2 5 2 1 5 5 5]\n",
      "group one:  [42, 45, 46, 47, 48, 49, 51, 55, 69]\n",
      "group two:  [50, 56, 58, 59, 64, 66, 68]\n",
      "group three:  [41, 43, 52, 53, 54, 63]\n",
      "group four:  [39, 40, 57]\n",
      "group five:  [44, 60, 61, 62, 65, 67, 70, 71, 72]\n",
      "group one:  ['ALL', 'ALL', 'ALL', 'ALL', 'ALL', 'ALL', 'AML', 'ALL', 'ALL']\n",
      "group two:  ['AML', 'ALL', 'AML', 'ALL', 'AML', 'AML', 'ALL']\n",
      "group three:  ['ALL', 'ALL', 'AML', 'AML', 'AML', 'AML']\n",
      "group four:  ['ALL', 'ALL', 'AML']\n",
      "group five:  ['ALL', 'AML', 'AML', 'AML', 'AML', 'ALL', 'ALL', 'ALL', 'ALL']\n"
     ]
    }
   ],
   "source": [
    "from scipy.cluster.hierarchy import fcluster\n",
    "fcluster = fcluster(linkage_matrix_ward, 5, criterion='maxclust')\n",
    "print(fcluster)\n",
    "i = 39\n",
    "cluster_list = []\n",
    "for cluster in fcluster:\n",
    "    cluster_list.append((i,cluster))\n",
    "    i +=1\n",
    "one = []\n",
    "two = []\n",
    "three = []\n",
    "four = []\n",
    "five = []\n",
    "for item in cluster_list:\n",
    "    if item[-1] == 1:\n",
    "        one.append(item[0])\n",
    "    if item[-1] == 2:\n",
    "        two.append(item[0])\n",
    "    if item[-1] == 3:\n",
    "        three.append(item[0])\n",
    "    if item[-1] == 4:\n",
    "        four.append(item[0])\n",
    "    if item[-1] == 5:\n",
    "        five.append(item[0])\n",
    "print(\"group one: \", one)\n",
    "print(\"group two: \", two)\n",
    "print(\"group three: \", three)\n",
    "print(\"group four: \", four)\n",
    "print(\"group five: \", five)\n",
    "one_cancer_type = []\n",
    "two_cancer_type = []\n",
    "three_cancer_type = []\n",
    "four_cancer_type = []\n",
    "five_cancer_type = []\n",
    "for p in one:\n",
    "    p = p-1\n",
    "    one_cancer_type.append(df_label.iloc[p].cancer)\n",
    "for p in two:\n",
    "    p = p-1\n",
    "    two_cancer_type.append(df_label.iloc[p].cancer)\n",
    "for p in three:\n",
    "    p = p-1\n",
    "    three_cancer_type.append(df_label.iloc[p].cancer)\n",
    "for p in four:\n",
    "    p = p-1\n",
    "    four_cancer_type.append(df_label.iloc[p].cancer)\n",
    "for p in five:\n",
    "    p = p-1\n",
    "    five_cancer_type.append(df_label.iloc[p].cancer)\n",
    "print(\"group one: \", one_cancer_type)\n",
    "print(\"group two: \", two_cancer_type)\n",
    "print(\"group three: \", three_cancer_type)\n",
    "print(\"group four: \", four_cancer_type)\n",
    "print(\"group five: \", five_cancer_type)"
   ]
  },
  {
   "cell_type": "markdown",
   "metadata": {
    "colab_type": "text",
    "id": "CFs4gbEU8Bda",
    "outputExpanded": false
   },
   "source": [
    "(YOUR INTERPRETATION HERE)\n",
    "Compare with label!\n",
    "#### From the last question, I got five clusters: group one and two mainly include \"AML\" type while group three, four and five contain mostly \"ALL\" type. \n",
    "* In the training dataset, the clusters I got as follow:\n",
    "        * group one:  ['ALL', 'ALL', 'AML', 'AML', 'AML']\n",
    "        * group two:  ['AML', 'AML', 'AML', 'AML', 'AML', 'AML', 'AML']\n",
    "        * group three:  ['ALL', 'ALL', 'ALL', 'ALL', 'ALL', 'ALL', 'ALL', 'ALL']\n",
    "        * group four:  ['ALL', 'ALL', 'ALL', 'ALL', 'ALL', 'ALL', 'ALL', 'ALL', 'ALL', 'AML']\n",
    "        * group five:  ['ALL', 'ALL', 'ALL', 'ALL', 'ALL', 'ALL', 'ALL', 'ALL']\n",
    "#### To figure out how this result works on my test data, I build a PCA model by fitting the training set and transform the test set by this model. Then I conduct the hierarchy clustering on my test set.\n",
    "* In the test dataset, the cluster I got as follow:\n",
    "        * group one:  ['ALL', 'ALL', 'ALL', 'ALL', 'ALL', 'ALL', 'AML', 'ALL', 'ALL']\n",
    "        * group two:  ['AML', 'ALL', 'AML', 'ALL', 'AML', 'AML', 'ALL']\n",
    "        * group three:  ['ALL', 'ALL', 'AML', 'AML', 'AML', 'AML']\n",
    "        * group four:  ['ALL', 'ALL', 'AML']\n",
    "        * group five:  ['ALL', 'AML', 'AML', 'AML', 'AML', 'ALL', 'ALL', 'ALL', 'ALL']\n",
    "* I found the result is kind of messy. I also noticed that the situation where half \"AML\" and half  \"ALL\" show up in one group like the group one for training dataset and some clusters generated from test dataset are common, which made me think about the limitation of labels - simply dividing these patients into two different types might not comprehensively explain some gene similarities between them. We probably need a better classification method for these patients."
   ]
  }
 ],
 "metadata": {
  "colab": {
   "collapsed_sections": [],
   "name": "618_HW7.ipynb",
   "provenance": [],
   "version": "0.3.2"
  },
  "kernel_info": {
   "name": "python3"
  },
  "kernelspec": {
   "display_name": "Python 3",
   "language": "python",
   "name": "python3"
  },
  "language_info": {
   "codemirror_mode": {
    "name": "ipython",
    "version": 3
   },
   "file_extension": ".py",
   "mimetype": "text/x-python",
   "name": "python",
   "nbconvert_exporter": "python",
   "pygments_lexer": "ipython3",
   "version": "3.6.5"
  }
 },
 "nbformat": 4,
 "nbformat_minor": 2
}
