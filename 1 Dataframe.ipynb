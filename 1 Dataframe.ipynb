{
 "cells": [
  {
   "cell_type": "markdown",
   "metadata": {
    "colab_type": "text",
    "id": "UGqk3SzXsMR3",
    "outputExpanded": false
   },
   "source": [
    "# SI 618 - Homework #1: Data Manipulation"
   ]
  },
  {
   "cell_type": "markdown",
   "metadata": {},
   "source": [
    "### IMPORTANT: Replace ```?``` in the following code with your uniqname."
   ]
  },
  {
   "cell_type": "code",
   "execution_count": 29,
   "metadata": {
    "collapsed": false
   },
   "outputs": [],
   "source": [
    "MY_UNIQNAME = 'yuqin'"
   ]
  },
  {
   "cell_type": "markdown",
   "metadata": {
    "outputExpanded": false
   },
   "source": [
    "## Background"
   ]
  },
  {
   "cell_type": "markdown",
   "metadata": {
    "outputExpanded": false
   },
   "source": [
    "This homework assignment focuses on the analysis of historical data from the Olympic games.  The description of the data includes the following:\n",
    "> This is a historical dataset on the modern Olympic Games, including all the Games from Athens 1896 to Rio 2016. I scraped this data from www.sports-reference.com in May 2018."
   ]
  },
  {
   "cell_type": "markdown",
   "metadata": {
    "outputExpanded": false
   },
   "source": [
    "Your main task in this assignment is to explore the data *using the data\n",
    "manipulation methods we covered in class* as well as those in the assigned readings.  You may need to consult pandas documentation, Stack Overflow, or other online resources.  \n",
    "\n",
    "** You should also feel free to ask questions on the class Slack channel!**"
   ]
  },
  {
   "cell_type": "markdown",
   "metadata": {
    "colab_type": "text",
    "id": "pbqbtPreaCjs",
    "outputExpanded": false
   },
   "source": [
    "A total of 100 points is available in this homework assignment, consisting of:\n",
    "- 80 points for completing the specific homework questions. More comprehensive \n",
    "answers will tend to gain more points.\n",
    "- 10 points for the overall quality of spelling, grammar, punctuation, and style of written responses.  (see https://faculty.washington.edu/heagerty/Courses/b572/public/StrunkWhite.pdf for a detailed specifications).\n",
    "- 10 points for creating code that conforms to [PEP 8](https://www.python.org/dev/peps/pep-0008/) guidelines.  You should review those guidelines before proceding with the assignment.\n"
   ]
  },
  {
   "cell_type": "markdown",
   "metadata": {
    "colab_type": "text",
    "id": "Pr9WBUQyZY4V",
    "outputExpanded": false
   },
   "source": [
    "## 0. Download the data from: \n",
    "- https://www.kaggle.com/heesoo37/120-years-of-olympic-history-athletes-and-results\n",
    "- https://en.wikipedia.org/wiki/List_of_Olympic_Games_host_cities (note: we suggest you use the [read_html](https://pandas.pydata.org/pandas-docs/stable/generated/pandas.read_html.html) function to load the data into a DataFrame."
   ]
  },
  {
   "cell_type": "markdown",
   "metadata": {
    "colab_type": "text",
    "id": "8EV1PilWtl0Z",
    "outputExpanded": false
   },
   "source": [
    "## 1. Answer the questions below. \n",
    "For each question, you should\n",
    "1. Write code using Python and pandas that can help you answer the following questions, and\n",
    "2. Explain your answers in plain English. You should use complete sentences that would be understood by an educated professional who is not necessarily a data scientist (like a product manager)."
   ]
  },
  {
   "cell_type": "markdown",
   "metadata": {
    "colab_type": "text",
    "id": "PfjXDtHoabcS",
    "outputExpanded": false
   },
   "source": [
    "### 5 pt: Describe the dataset. \n",
    "- How many number rows and columns do you see in each data frame? \n",
    "- Are there any other interesting descriptive details?"
   ]
  },
  {
   "cell_type": "code",
   "execution_count": 66,
   "metadata": {
    "colab": {},
    "colab_type": "code",
    "id": "ttHwVC8ot5Ur",
    "outputExpanded": false
   },
   "outputs": [],
   "source": [
    "import numpy as np\n",
    "import pandas as pd\n",
    "from pandas import DataFrame\n",
    "%matplotlib inline"
   ]
  },
  {
   "cell_type": "markdown",
   "metadata": {},
   "source": [
    "#### Dataset 1: athlete_events"
   ]
  },
  {
   "cell_type": "code",
   "execution_count": 57,
   "metadata": {},
   "outputs": [
    {
     "name": "stdout",
     "output_type": "stream",
     "text": [
      "The shape of the dataset is:  (271116, 15)\n",
      "The number of rows of the dataset is:  271116\n",
      "The number of columns of the dataset is:  15\n",
      "            ID                            Name Sex   Age  Height  Weight  \\\n",
      "18465     9777  Yevgeny Vladimirovich Belousov   M  21.0   183.0    86.0   \n",
      "3229      1812          Khaled Anwar Al-Awadhi   M  15.0   170.0    61.0   \n",
      "101294   51213             Ali Hassain Hussain   M   NaN   165.0    56.0   \n",
      "261041  130633       Lucinda Williams (-Adams)   F  19.0   166.0    51.0   \n",
      "248023  124172             Harry Van Barneveld   M  33.0   195.0   125.0   \n",
      "\n",
      "                  Team  NOC        Games  Year  Season       City  \\\n",
      "18465   Soviet Union-1  URS  1984 Winter  1984  Winter   Sarajevo   \n",
      "3229            Kuwait  KUW  1980 Summer  1980  Summer     Moskva   \n",
      "101294            Iraq  IRQ  1960 Summer  1960  Summer       Roma   \n",
      "261041   United States  USA  1956 Summer  1956  Summer  Melbourne   \n",
      "248023         Belgium  BEL  2000 Summer  2000  Summer     Sydney   \n",
      "\n",
      "                Sport                             Event   Medal  \n",
      "18465            Luge        Luge Mixed (Men)'s Doubles  Silver  \n",
      "3229          Fencing    Fencing Men's Foil, Individual     NaN  \n",
      "101294  Weightlifting  Weightlifting Men's Bantamweight     NaN  \n",
      "261041      Athletics      Athletics Women's 100 metres     NaN  \n",
      "248023           Judo            Judo Men's Heavyweight     NaN  \n",
      "25.556898357297374\n"
     ]
    }
   ],
   "source": [
    "athlete_events = pd.read_csv('data/athlete_events.csv', index_col=None)\n",
    "# Data structure\n",
    "# Unique Values, Counts, Membership\n",
    "# Descriptive and Summary Statistics\n",
    "print(\"The shape of the dataset is: \", athlete_events.shape)\n",
    "print(\"The number of rows of the dataset is: \", len(athlete_events))\n",
    "print(\"The number of columns of the dataset is: \", len(athlete_events.columns))\n",
    "print(athlete_events.sample(5))\n",
    "print(athlete_events.Age.mean())"
   ]
  },
  {
   "cell_type": "raw",
   "metadata": {},
   "source": [
    "Explain:\n",
    "In this dataset, it records primary biodata on athletes and medal results from Athens 1896 to Rio 2016.\n",
    "1. It contains 271116 rows, which mean it records 271116 athletes'information, and the 15 columns: ID, Name, Sex, Age, Height, Weight, Team, NOC, Games, Year, Season, City, Sport, Event, Medal. \n",
    "2. The mean Age of these athletes is around 25.5."
   ]
  },
  {
   "cell_type": "markdown",
   "metadata": {},
   "source": [
    "#### Dataset 2: noc_regions"
   ]
  },
  {
   "cell_type": "code",
   "execution_count": 55,
   "metadata": {},
   "outputs": [
    {
     "name": "stdout",
     "output_type": "stream",
     "text": [
      "The number of rows of the dataset is:  230\n",
      "The number of columns of the dataset is:  3\n",
      "The shape of the dataset is:  (230, 3)\n",
      "     NOC              region           notes\n",
      "151  NRU               Nauru             NaN\n",
      "120  LIE       Liechtenstein             NaN\n",
      "117  LCA         Saint Lucia             NaN\n",
      "177  SEY          Seychelles             NaN\n",
      "99   ISV  Virgin Islands, US  Virgin Islands\n",
      "Germany    4\n",
      "Name: region, dtype: int64\n"
     ]
    }
   ],
   "source": [
    "noc_regions = pd.read_csv('data/noc_regions.csv', index_col=None)\n",
    "print(\"The number of rows of the dataset is: \", len(noc_regions))\n",
    "print(\"The number of columns of the dataset is: \", len(noc_regions.columns))\n",
    "print(\"The shape of the dataset is: \", noc_regions.shape)\n",
    "print(noc_regions.sample(5))\n",
    "print(noc_regions.region.value_counts().head(1))"
   ]
  },
  {
   "cell_type": "raw",
   "metadata": {},
   "source": [
    "Explain: \n",
    "1. It contains 230 rows, which mean it records 230 National Olympic Committees, and the 3 columns: NOC(National Olympic Committee 3 letter code), region(Country name), note. \n",
    "2. Germany has the greates number of National Olympic Committes, which is 4."
   ]
  },
  {
   "cell_type": "markdown",
   "metadata": {},
   "source": [
    "#### Dataset 3: List of Olympic Games host cities"
   ]
  },
  {
   "cell_type": "code",
   "execution_count": 80,
   "metadata": {},
   "outputs": [
    {
     "name": "stdout",
     "output_type": "stream",
     "text": [
      "The number of rows of the dataset is:  68\n",
      "The number of columns of the dataset is:  10\n",
      "The shape of the dataset is:  (68, 10)\n",
      "          City      Country Continent  Summer (Olympiad)  Winter  \\\n",
      "6   Antwerp[d]      Belgium    Europe                NaN     NaN   \n",
      "19  St. Moritz  Switzerland    Europe                NaN     NaN   \n",
      "\n",
      "    Summer (Youth)  Winter (Youth)  Year Opening Ceremony  Closing Ceremony  \n",
      "6              NaN             NaN  1920         April 20  September 12[11]  \n",
      "19             NaN             NaN  1948       January 30        February 8  \n",
      "Los Angeles    3\n",
      "London         3\n",
      "Innsbruck      3\n",
      "Paris          3\n",
      "Tokyo          2\n",
      "Name: City, dtype: int64\n"
     ]
    }
   ],
   "source": [
    "#Read HTML tables into a list of DataFrame objects.\n",
    "url = 'https://en.wikipedia.org/wiki/List_of_Olympic_Games_host_cities'\n",
    "host_cities = pd.read_html(url,header=0)\n",
    "cities = host_cities[1]\n",
    "print(\"The number of rows of the dataset is: \", len(cities))\n",
    "print(\"The number of columns of the dataset is: \", len(cities.columns))\n",
    "print(\"The shape of the dataset is: \", cities.shape)\n",
    "print(cities.sample(2))\n",
    "print(cities.City.value_counts().head(5))"
   ]
  },
  {
   "cell_type": "raw",
   "metadata": {},
   "source": [
    "Explain: \n",
    "The dataset is about a list of host cities of the Olympic Games and Youth Olympic Games, both summer and winter, since the modern Olympics began in 1896. \n",
    "1. It contains 69 rows, which means there are total 69 Olympic Games and the 10 columns as follows: City, Country, Continent, Summer (Olympiad), Winter, Summer (Youth), Winter (Youth), Year, Opening Ceremone, Closing Ceremony. \n",
    "2. Los Angeles, London, Innsbruck, Paris hosted the greates number of Olympic Games than other cities, which is 3."
   ]
  },
  {
   "cell_type": "markdown",
   "metadata": {},
   "source": [
    "#### Dataset 4: List of Olympic Game host cities that hosted multiple editions"
   ]
  },
  {
   "cell_type": "code",
   "execution_count": 74,
   "metadata": {},
   "outputs": [
    {
     "name": "stdout",
     "output_type": "stream",
     "text": [
      "The number of rows of the dataset is:  10\n",
      "The number of columns of the dataset is:  8\n"
     ]
    },
    {
     "data": {
      "text/html": [
       "<div>\n",
       "<style scoped>\n",
       "    .dataframe tbody tr th:only-of-type {\n",
       "        vertical-align: middle;\n",
       "    }\n",
       "\n",
       "    .dataframe tbody tr th {\n",
       "        vertical-align: top;\n",
       "    }\n",
       "\n",
       "    .dataframe thead th {\n",
       "        text-align: right;\n",
       "    }\n",
       "</style>\n",
       "<table border=\"1\" class=\"dataframe\">\n",
       "  <thead>\n",
       "    <tr style=\"text-align: right;\">\n",
       "      <th></th>\n",
       "      <th>City</th>\n",
       "      <th>Country</th>\n",
       "      <th>Continent</th>\n",
       "      <th>Summer Olympics</th>\n",
       "      <th>Winter Olympics</th>\n",
       "      <th>Summer Youth Olympics</th>\n",
       "      <th>Winter Youth Olympics</th>\n",
       "      <th>Total</th>\n",
       "    </tr>\n",
       "  </thead>\n",
       "  <tbody>\n",
       "    <tr>\n",
       "      <th>0</th>\n",
       "      <td>London</td>\n",
       "      <td>United Kingdom</td>\n",
       "      <td>Europe</td>\n",
       "      <td>3 (1908, 1948, 2012)</td>\n",
       "      <td>0</td>\n",
       "      <td>0</td>\n",
       "      <td>0</td>\n",
       "      <td>3.0</td>\n",
       "    </tr>\n",
       "    <tr>\n",
       "      <th>1</th>\n",
       "      <td>Paris</td>\n",
       "      <td>France</td>\n",
       "      <td>Europe</td>\n",
       "      <td>3 (1900, 1924, 2024)</td>\n",
       "      <td>0</td>\n",
       "      <td>0</td>\n",
       "      <td>0</td>\n",
       "      <td>NaN</td>\n",
       "    </tr>\n",
       "    <tr>\n",
       "      <th>2</th>\n",
       "      <td>Los Angeles</td>\n",
       "      <td>United States</td>\n",
       "      <td>North America</td>\n",
       "      <td>3 (1932, 1984, 2028)</td>\n",
       "      <td>0</td>\n",
       "      <td>0</td>\n",
       "      <td>0</td>\n",
       "      <td>NaN</td>\n",
       "    </tr>\n",
       "    <tr>\n",
       "      <th>3</th>\n",
       "      <td>Innsbruck</td>\n",
       "      <td>Austria</td>\n",
       "      <td>Europe</td>\n",
       "      <td>0</td>\n",
       "      <td>2 (1964, 1976)</td>\n",
       "      <td>0</td>\n",
       "      <td>1 (2012)</td>\n",
       "      <td>NaN</td>\n",
       "    </tr>\n",
       "    <tr>\n",
       "      <th>4</th>\n",
       "      <td>Athens</td>\n",
       "      <td>Greece</td>\n",
       "      <td>Europe</td>\n",
       "      <td>2 (1896, 2004)</td>\n",
       "      <td>0</td>\n",
       "      <td>0</td>\n",
       "      <td>0</td>\n",
       "      <td>2.0</td>\n",
       "    </tr>\n",
       "    <tr>\n",
       "      <th>5</th>\n",
       "      <td>Tokyo</td>\n",
       "      <td>Japan</td>\n",
       "      <td>Asia</td>\n",
       "      <td>2 (1964, 2020)</td>\n",
       "      <td>0</td>\n",
       "      <td>0</td>\n",
       "      <td>0</td>\n",
       "      <td>NaN</td>\n",
       "    </tr>\n",
       "    <tr>\n",
       "      <th>6</th>\n",
       "      <td>Beijing</td>\n",
       "      <td>China</td>\n",
       "      <td>Asia</td>\n",
       "      <td>1 (2008)</td>\n",
       "      <td>1 (2022)</td>\n",
       "      <td>0</td>\n",
       "      <td>0</td>\n",
       "      <td>NaN</td>\n",
       "    </tr>\n",
       "    <tr>\n",
       "      <th>7</th>\n",
       "      <td>St. Moritz</td>\n",
       "      <td>Switzerland</td>\n",
       "      <td>Europe</td>\n",
       "      <td>0</td>\n",
       "      <td>2 (1928, 1948)</td>\n",
       "      <td>0</td>\n",
       "      <td>0</td>\n",
       "      <td>NaN</td>\n",
       "    </tr>\n",
       "    <tr>\n",
       "      <th>8</th>\n",
       "      <td>Lake Placid</td>\n",
       "      <td>United States</td>\n",
       "      <td>North America</td>\n",
       "      <td>0</td>\n",
       "      <td>2 (1932, 1980)</td>\n",
       "      <td>0</td>\n",
       "      <td>0</td>\n",
       "      <td>NaN</td>\n",
       "    </tr>\n",
       "    <tr>\n",
       "      <th>9</th>\n",
       "      <td>Lillehammer</td>\n",
       "      <td>Norway</td>\n",
       "      <td>Europe</td>\n",
       "      <td>0</td>\n",
       "      <td>1 (1994)</td>\n",
       "      <td>0</td>\n",
       "      <td>1 (2016)</td>\n",
       "      <td>NaN</td>\n",
       "    </tr>\n",
       "  </tbody>\n",
       "</table>\n",
       "</div>"
      ],
      "text/plain": [
       "          City         Country      Continent       Summer Olympics  \\\n",
       "0       London  United Kingdom         Europe  3 (1908, 1948, 2012)   \n",
       "1        Paris          France         Europe  3 (1900, 1924, 2024)   \n",
       "2  Los Angeles   United States  North America  3 (1932, 1984, 2028)   \n",
       "3    Innsbruck         Austria         Europe                     0   \n",
       "4       Athens          Greece         Europe        2 (1896, 2004)   \n",
       "5        Tokyo           Japan           Asia        2 (1964, 2020)   \n",
       "6      Beijing           China           Asia              1 (2008)   \n",
       "7   St. Moritz     Switzerland         Europe                     0   \n",
       "8  Lake Placid   United States  North America                     0   \n",
       "9  Lillehammer          Norway         Europe                     0   \n",
       "\n",
       "  Winter Olympics  Summer Youth Olympics Winter Youth Olympics  Total  \n",
       "0               0                      0                     0    3.0  \n",
       "1               0                      0                     0    NaN  \n",
       "2               0                      0                     0    NaN  \n",
       "3  2 (1964, 1976)                      0              1 (2012)    NaN  \n",
       "4               0                      0                     0    2.0  \n",
       "5               0                      0                     0    NaN  \n",
       "6        1 (2022)                      0                     0    NaN  \n",
       "7  2 (1928, 1948)                      0                     0    NaN  \n",
       "8  2 (1932, 1980)                      0                     0    NaN  \n",
       "9        1 (1994)                      0              1 (2016)    NaN  "
      ]
     },
     "execution_count": 74,
     "metadata": {},
     "output_type": "execute_result"
    }
   ],
   "source": [
    "hosted_multiple_editions = host_cities[2]\n",
    "print(\"The number of rows of the dataset is: \", len(hosted_multiple_editions))\n",
    "print(\"The number of columns of the dataset is: \", len(hosted_multiple_editions.columns))\n",
    "hosted_multiple_editions"
   ]
  },
  {
   "cell_type": "markdown",
   "metadata": {},
   "source": [
    "#### Dataset 5: List of Olympic Game host countries"
   ]
  },
  {
   "cell_type": "code",
   "execution_count": 75,
   "metadata": {},
   "outputs": [
    {
     "name": "stdout",
     "output_type": "stream",
     "text": [
      "The number of rows of the dataset is:  26\n",
      "The number of columns of the dataset is:  8\n"
     ]
    },
    {
     "data": {
      "text/html": [
       "<div>\n",
       "<style scoped>\n",
       "    .dataframe tbody tr th:only-of-type {\n",
       "        vertical-align: middle;\n",
       "    }\n",
       "\n",
       "    .dataframe tbody tr th {\n",
       "        vertical-align: top;\n",
       "    }\n",
       "\n",
       "    .dataframe thead th {\n",
       "        text-align: right;\n",
       "    }\n",
       "</style>\n",
       "<table border=\"1\" class=\"dataframe\">\n",
       "  <thead>\n",
       "    <tr style=\"text-align: right;\">\n",
       "      <th></th>\n",
       "      <th>Rank</th>\n",
       "      <th>Country</th>\n",
       "      <th>Continent</th>\n",
       "      <th>Summer Olympics</th>\n",
       "      <th>Winter Olympics</th>\n",
       "      <th>Summer Youth Olympics</th>\n",
       "      <th>Winter Youth Olympics</th>\n",
       "      <th>Total</th>\n",
       "    </tr>\n",
       "  </thead>\n",
       "  <tbody>\n",
       "    <tr>\n",
       "      <th>0</th>\n",
       "      <td>1</td>\n",
       "      <td>United States</td>\n",
       "      <td>North America</td>\n",
       "      <td>5 (1904, 1932, 1984, 1996, 2028)</td>\n",
       "      <td>4 (1932, 1960, 1980, 2002)</td>\n",
       "      <td>0</td>\n",
       "      <td>0</td>\n",
       "      <td>9.0</td>\n",
       "    </tr>\n",
       "  </tbody>\n",
       "</table>\n",
       "</div>"
      ],
      "text/plain": [
       "   Rank        Country      Continent                   Summer Olympics  \\\n",
       "0     1  United States  North America  5 (1904, 1932, 1984, 1996, 2028)   \n",
       "\n",
       "              Winter Olympics Summer Youth Olympics Winter Youth Olympics  \\\n",
       "0  4 (1932, 1960, 1980, 2002)                     0                     0   \n",
       "\n",
       "   Total  \n",
       "0    9.0  "
      ]
     },
     "execution_count": 75,
     "metadata": {},
     "output_type": "execute_result"
    }
   ],
   "source": [
    "countries = host_cities[3]\n",
    "print(\"The number of rows of the dataset is: \", len(countries))\n",
    "print(\"The number of columns of the dataset is: \", len(countries.columns))\n",
    "countries.head(1)"
   ]
  },
  {
   "cell_type": "raw",
   "metadata": {},
   "source": [
    "Explain: \n",
    "1. It contains 26 rows, which means there are total 26 countries that have hosted Olympic Games and the 8 columns as follows: Rank, Country, Continent, Summer (Olympiad), Winter, Summer (Youth), Winter (Youth), Total. \n",
    "2. United States hosted the greates number of Olympic Games than other countries, which is 9."
   ]
  },
  {
   "cell_type": "markdown",
   "metadata": {},
   "source": [
    "#### Dataset 6: List of Olympic Game host continents"
   ]
  },
  {
   "cell_type": "code",
   "execution_count": 78,
   "metadata": {},
   "outputs": [
    {
     "name": "stdout",
     "output_type": "stream",
     "text": [
      "The number of rows of the dataset is:  6\n",
      "The number of columns of the dataset is:  7\n"
     ]
    },
    {
     "data": {
      "text/html": [
       "<div>\n",
       "<style scoped>\n",
       "    .dataframe tbody tr th:only-of-type {\n",
       "        vertical-align: middle;\n",
       "    }\n",
       "\n",
       "    .dataframe tbody tr th {\n",
       "        vertical-align: top;\n",
       "    }\n",
       "\n",
       "    .dataframe thead th {\n",
       "        text-align: right;\n",
       "    }\n",
       "</style>\n",
       "<table border=\"1\" class=\"dataframe\">\n",
       "  <thead>\n",
       "    <tr style=\"text-align: right;\">\n",
       "      <th></th>\n",
       "      <th>Rank</th>\n",
       "      <th>Continent</th>\n",
       "      <th>Summer Olympics</th>\n",
       "      <th>Winter Olympics</th>\n",
       "      <th>Summer Youth Olympics</th>\n",
       "      <th>Winter Youth Olympics</th>\n",
       "      <th>Total</th>\n",
       "    </tr>\n",
       "  </thead>\n",
       "  <tbody>\n",
       "    <tr>\n",
       "      <th>0</th>\n",
       "      <td>1</td>\n",
       "      <td>Europe</td>\n",
       "      <td>17 (1896, 1900, 1908, 1912, 1916, 1920, 1924, ...</td>\n",
       "      <td>14 (1924, 1928, 1936, 1940, 1944, 1948, 1952, ...</td>\n",
       "      <td>0</td>\n",
       "      <td>3 (2012, 2016, 2020)</td>\n",
       "      <td>34</td>\n",
       "    </tr>\n",
       "  </tbody>\n",
       "</table>\n",
       "</div>"
      ],
      "text/plain": [
       "   Rank Continent                                    Summer Olympics  \\\n",
       "0     1    Europe  17 (1896, 1900, 1908, 1912, 1916, 1920, 1924, ...   \n",
       "\n",
       "                                     Winter Olympics Summer Youth Olympics  \\\n",
       "0  14 (1924, 1928, 1936, 1940, 1944, 1948, 1952, ...                     0   \n",
       "\n",
       "  Winter Youth Olympics  Total  \n",
       "0  3 (2012, 2016, 2020)     34  "
      ]
     },
     "execution_count": 78,
     "metadata": {},
     "output_type": "execute_result"
    }
   ],
   "source": [
    "continents = host_cities[4]\n",
    "print(\"The number of rows of the dataset is: \", len(continents))\n",
    "print(\"The number of columns of the dataset is: \", len(continents.columns))\n",
    "continents.head(1)"
   ]
  },
  {
   "cell_type": "raw",
   "metadata": {},
   "source": [
    "Explain: \n",
    "1. It contains 6 rows, which means there are total 6 continents that have hosted Olympic Games and the 7 columns as follows: Rank, Continent, Summer (Olympiad), Winter, Summer (Youth), Winter (Youth), Total. \n",
    "2. Europe hosted the greatest number of Olympic Games than other continents, which is 34."
   ]
  },
  {
   "cell_type": "markdown",
   "metadata": {},
   "source": [
    "#### Dataset 7: List of Olympic Game host cities that were unsuccessful"
   ]
  },
  {
   "cell_type": "code",
   "execution_count": 83,
   "metadata": {},
   "outputs": [
    {
     "name": "stdout",
     "output_type": "stream",
     "text": [
      "The number of rows of the dataset is:  18\n",
      "The number of columns of the dataset is:  3\n"
     ]
    },
    {
     "data": {
      "text/plain": [
       "United States         4\n",
       "Mexico                2\n",
       "Spain                 2\n",
       "Qatar                 1\n",
       "Turkey                1\n",
       "Cuba                  1\n",
       "Belgium               1\n",
       "Puerto Rico           1\n",
       "Australia             1\n",
       "Slovakia              1\n",
       "Yugoslavia/ Serbia    1\n",
       "Hungary               1\n",
       "Azerbaijan            1\n",
       "Name: Country, dtype: int64"
      ]
     },
     "execution_count": 83,
     "metadata": {},
     "output_type": "execute_result"
    }
   ],
   "source": [
    "unsuccessful_cities = host_cities[6]\n",
    "print(\"The number of rows of the dataset is: \", len(unsuccessful_cities))\n",
    "print(\"The number of columns of the dataset is: \", len(unsuccessful_cities.columns))\n",
    "unsuccessful_cities.Country.value_counts()"
   ]
  },
  {
   "cell_type": "raw",
   "metadata": {},
   "source": [
    "Explain: \n",
    "1. It contains 18 rows, which means there are total 18 cities that have hosted unsuccessful Olympic Games and the 3 columns as follows: Country, City, Bids.\n",
    "2. United States hosted the most number of unsuccessful Olympic Games than other countries, which is 4."
   ]
  },
  {
   "cell_type": "markdown",
   "metadata": {},
   "source": [
    "### 5 pt: What is the overall ratio of female to male atheletes? \n",
    "There are multiple ways one could determine the meaning of \"overall\" here, and there isn't necessarily one correct answer. Based on your interpretation, give a justification for the choices you made in your analysis."
   ]
  },
  {
   "cell_type": "code",
   "execution_count": 111,
   "metadata": {},
   "outputs": [
    {
     "name": "stdout",
     "output_type": "stream",
     "text": [
      "['M' 'F']\n",
      "Overall female atheletes: 74522\n",
      "Overall male atheletes: 196594\n",
      "The overall ratio of female to male atheletes for all Olympic Games from Athens 1896 to Rio 2016 is: 0.37906548521318045\n",
      "['Summer' 'Winter']\n",
      "The overall ratio of female to male atheletes for summer Olympic Games is: 0.3644372781391585\n",
      "The overall ratio of female to male atheletes for winter Olympic Games is: 0.4503210392713155\n"
     ]
    }
   ],
   "source": [
    "print(athlete_events.Sex.unique())\n",
    "F_all = athlete_events.Sex.value_counts()['F']\n",
    "M_all = athlete_events.Sex.value_counts()['M']\n",
    "Ratio_all = float(F_all/M_all)\n",
    "print(\"Overall female atheletes: \"+ str(F_all))\n",
    "print(\"Overall male atheletes: \"+ str(M_all))\n",
    "print(\"The overall ratio of female to male atheletes for all Olympic Games from Athens 1896 to Rio 2016 is: \"+ str(Ratio_all))\n",
    "\n",
    "print(athlete_events.Season.unique())\n",
    "Summer = athlete_events.Season == 'Summer'\n",
    "Winter = athlete_events.Season == 'Winter'\n",
    "Summer_F_all = athlete_events[Summer].Sex.value_counts()['F']\n",
    "Summer_M_all = athlete_events[Summer].Sex.value_counts()['M']\n",
    "Ratio_Summer = float(Summer_F_all/Summer_M_all)\n",
    "Winter_F_all = athlete_events[Winter].Sex.value_counts()['F']\n",
    "Winter_M_all = athlete_events[Winter].Sex.value_counts()['M']\n",
    "Ratio_Winter = float(Winter_F_all/Winter_M_all)\n",
    "print(\"The overall ratio of female to male atheletes for summer Olympic Games is: \"+ str(Ratio_Summer))\n",
    "print(\"The overall ratio of female to male atheletes for winter Olympic Games is: \"+ str(Ratio_Winter))"
   ]
  },
  {
   "cell_type": "raw",
   "metadata": {},
   "source": [
    "Explain: \n",
    "In the dataset, there is one column called \"Sex\", which contains two possible values: F for the female and M for the male. \n",
    "1. For all Olympic Games from Athens 1896 to Rio 2016, the overall ratio of female to male athletes is: 0.37906548521318045.\n",
    "\n",
    "All Olympic Games can be divided into two categories based on the result of \"athlete_events.Season.unique()\" as follows: Summer and Winter.\n",
    "2. For all summer Olympic Games, the overall ratio of female to male athletes who attended summer Games is 0.3644372781391585.\n",
    "3. For all winter Olympic games, the overall ratio of female to male athletes who attended winter games is 0.4503210392713155. "
   ]
  },
  {
   "cell_type": "markdown",
   "metadata": {
    "colab_type": "text",
    "id": "0u5VM5ksbCTm",
    "outputExpanded": false
   },
   "source": [
    "### 10 pt: Which athelete competed in most number of events? \n",
    "In which events did the athelete participate, and for what range of years? Which country did the athlete represent?"
   ]
  },
  {
   "cell_type": "code",
   "execution_count": 189,
   "metadata": {
    "colab": {},
    "colab_type": "code",
    "id": "JtI8ru2at6ZU",
    "outputExpanded": false
   },
   "outputs": [
    {
     "name": "stdout",
     "output_type": "stream",
     "text": [
      "77710    58\n",
      "Name: ID, dtype: int64\n",
      "['Robert Tait McKenzie']\n",
      "Art Competitions Mixed Sculpturing, Unknown Event         48\n",
      "Art Competitions Mixed Sculpturing, Statues                7\n",
      "Art Competitions Mixed Sculpturing                         1\n",
      "Art Competitions Mixed Sculpturing, Medals                 1\n",
      "Art Competitions Mixed Sculpturing, Medals And Reliefs     1\n",
      "Name: Event, dtype: int64\n",
      "1932    44\n",
      "1928     7\n",
      "1936     5\n",
      "1912     1\n",
      "1948     1\n",
      "Name: Year, dtype: int64\n",
      "['Canada']\n"
     ]
    }
   ],
   "source": [
    "print(athlete_events.ID.value_counts().head(1))\n",
    "print(athlete_events[(athlete_events['ID'] == 77710)].Name.unique())\n",
    "\n",
    "The_most_competed_athelete = athlete_events.Name == 'Robert Tait McKenzie'\n",
    "print(athlete_events[The_most_competed_athelete].Event.value_counts())\n",
    "print(athlete_events[The_most_competed_athelete].Year.value_counts())\n",
    "print(athlete_events[The_most_competed_athelete].Team.unique())"
   ]
  },
  {
   "cell_type": "markdown",
   "metadata": {
    "colab_type": "text",
    "id": "CCuxztg3uYPQ",
    "outputExpanded": false
   },
   "source": [
    "Robert Tait McKenzie competed in most number of events. \n",
    "\n",
    "1. He participated in an event named \"Art Competitions Mixed Sculpturing, Unknown Event\" for 48 times, an event named \"Art Competitions Mixed Sculpturing, Statues\" for seven times, an event named \"Art Competitions Mixed Sculpturing\" once, an event named \"Art Competitions Mixed Sculpturing, Medals\" once and an event named \"Art Competitions Mixed Sculpturing, Medals And Reliefs\" once. \n",
    "\n",
    "2. He attended those events from 1912 to 1948, respectively in 1912, 1928, 1932, 1936 and 1948. \n",
    "\n",
    "3. Through those editions of Games, he represented Canada to take part in those events.\n"
   ]
  },
  {
   "cell_type": "markdown",
   "metadata": {
    "colab_type": "text",
    "id": "2wH5ikUcbb16",
    "outputExpanded": false
   },
   "source": [
    "### 10 pt: Which sport has the highest median athlete age? \n",
    "To determine this, you might want to plot the median age for each sport. You may want to sort the axes appropriately for your analysis."
   ]
  },
  {
   "cell_type": "code",
   "execution_count": 361,
   "metadata": {
    "colab": {},
    "colab_type": "code",
    "id": "GneWWgFVt62N",
    "outputExpanded": false
   },
   "outputs": [
    {
     "data": {
      "text/plain": [
       "<matplotlib.axes._subplots.AxesSubplot at 0x12dedd550>"
      ]
     },
     "execution_count": 361,
     "metadata": {},
     "output_type": "execute_result"
    },
    {
     "data": {
      "image/png": "[encoded data removed]",
      "text/plain": [
       "<Figure size 1296x576 with 1 Axes>"
      ]
     },
     "metadata": {},
     "output_type": "display_data"
    }
   ],
   "source": [
    "athlete_events.groupby(['Sport'])['Age'].median().sort_values(ascending=False).plot(kind='bar', figsize=(18,8))"
   ]
  },
  {
   "cell_type": "raw",
   "metadata": {
    "colab_type": "text",
    "id": "WlWYu2_5uY7K",
    "outputExpanded": false
   },
   "source": [
    "Explain: We can see clearly from the plot that Roque as a sport has the highest median athlete age."
   ]
  },
  {
   "cell_type": "markdown",
   "metadata": {
    "colab_type": "text",
    "id": "wGoiQk8XbqHw",
    "outputExpanded": false
   },
   "source": [
    "### 10 pt: In which events has Jamaica won the most medals?"
   ]
  },
  {
   "cell_type": "code",
   "execution_count": 338,
   "metadata": {
    "colab": {},
    "colab_type": "code",
    "id": "U5jIdE3_t7YA",
    "outputExpanded": false
   },
   "outputs": [
    {
     "name": "stdout",
     "output_type": "stream",
     "text": [
      "Athletics Women's 4 x 400 metres Relay Team\n",
      "Jamaica    60\n",
      "Name: Medal, dtype: int64\n"
     ]
    }
   ],
   "source": [
    "# What kind of medals we have?\n",
    "athlete_events.Medal.unique()\n",
    "medals = ['Gold','Bronze','Silver']\n",
    "\n",
    "# What events did jamaica participate in?\n",
    "Jamaica = athlete_events.Team == 'Jamaica'\n",
    "Jamaica_events = athlete_events[Jamaica].Event.unique()\n",
    "\n",
    "for i in Jamaica_events:\n",
    "    one_event = athlete_events[athlete_events['Event'] == i]\n",
    "    a = one_event.groupby('Team').Medal.size().sort_values(ascending=False).head(1)\n",
    "    #select the Jamica\n",
    "    if a.index[0]== 'Jamaica':\n",
    "        print(i, a)"
   ]
  },
  {
   "cell_type": "raw",
   "metadata": {
    "colab_type": "text",
    "id": "yN5zlizIuZa8",
    "outputExpanded": false
   },
   "source": [
    "Answer: In the \"Athletics Women's 4 x 400 metres Relay Team\" event, Jamaica won the most medals. I first selected all events that Jamaica participated. Then I calculated how many medals each team got for each event and picked the number one team. After those filtering, I found there is one event Jamica won the most medals.\n"
   ]
  },
  {
   "cell_type": "markdown",
   "metadata": {
    "colab_type": "text",
    "id": "lwumWcqTcMCs",
    "outputExpanded": false
   },
   "source": [
    "### 10 pt: Which countries have more female medalists than male medalists?"
   ]
  },
  {
   "cell_type": "code",
   "execution_count": 360,
   "metadata": {
    "colab": {},
    "colab_type": "code",
    "id": "OMnjkk4St77B",
    "outputExpanded": false
   },
   "outputs": [
    {
     "name": "stdout",
     "output_type": "stream",
     "text": [
      "The countries that have more female medalists than male medalists are: ['Belarus', 'Romania', 'Ukraine', 'Jamaica', 'North Korea', 'China', 'Montenegro', 'Peru', 'Zimbabwe', 'Liechtenstein', 'Bahrain', 'Kosovo', 'Mozambique', 'Costa Rica']\n"
     ]
    }
   ],
   "source": [
    "# medalists\n",
    "medalists = athlete_events[(athlete_events['Medal'] == 'Gold')| (athlete_events['Medal'] == 'Bronze')|(athlete_events['Medal'] == 'Silver')]\n",
    "# how many teams that have medalists from different countries we have?\n",
    "countris_list = medalists.NOC.unique()\n",
    "# groupby Sex for each coutries\n",
    "NOC = []\n",
    "for i in countris_list:\n",
    "    one_country = medalists[medalists['NOC'] == i]\n",
    "    a = one_country.groupby('Sex').size().sort_values(ascending=False)\n",
    "    if a.index[0]=='F':\n",
    "        NOC.append(i)\n",
    "countries = []\n",
    "for i in NOC:\n",
    "    a = noc_regions[noc_regions['NOC'] == i].region.unique()\n",
    "    if len(a) == 1:\n",
    "        countries.append(a[0])\n",
    "print(\"The countries that have more female medalists than male medalists are: \" + str(countries))"
   ]
  },
  {
   "cell_type": "markdown",
   "metadata": {
    "colab_type": "text",
    "id": "nau57Y2ZuZ6Y",
    "outputExpanded": false
   },
   "source": [
    "Answer: I first filtered all the medalists from the table and created a new dataset called \"medalists\".\n",
    "In this list of medalists, I then created a list to store the countries' code, from which those medalists came. For each country, I compared the number of female medalists with male medalists and outputted the countries that have more female medalists than male medalists. At last, I used the table for the countries' codes to find the countries name."
   ]
  },
  {
   "cell_type": "markdown",
   "metadata": {
    "colab_type": "text",
    "id": "7n5ybXFQcR-g",
    "outputExpanded": false
   },
   "source": [
    "### 10 pt: Which country won the most medal points in each of the 2014 Winter Olympics?\n",
    "Rank each country by a score, where 3 points are assigned for a gold medal, 2 points for silver, and 1 point for bronze."
   ]
  },
  {
   "cell_type": "code",
   "execution_count": 403,
   "metadata": {
    "colab": {},
    "colab_type": "code",
    "id": "FoWTh2ekt8Wp",
    "outputExpanded": false
   },
   "outputs": [
    {
     "name": "stdout",
     "output_type": "stream",
     "text": [
      "CAN 226\n"
     ]
    }
   ],
   "source": [
    "winter_olympics = medalists[(medalists['Games'] == '2014 Winter')]\n",
    "NOC_list = winter_olympics.NOC.unique()\n",
    "country_name = []\n",
    "points = []\n",
    "for i in NOC_list:\n",
    "    country_name.append(i)\n",
    "    medal_points = 0\n",
    "    one_country = winter_olympics[winter_olympics['NOC'] == i]\n",
    "    medal_type = one_country.Medal\n",
    "    for i in medal_type:\n",
    "        if i == 'Gold':\n",
    "            medal_points += 3\n",
    "        if i == 'Silver':\n",
    "            medal_points += 2\n",
    "        if i == 'Bronze':\n",
    "            medal_points += 1\n",
    "    points.append(medal_points)\n",
    "    \n",
    "country_dict = dict(zip(country_name,points))\n",
    "value = 0\n",
    "country = ''\n",
    "for k, v in country_dict.items():\n",
    "    if v > value:\n",
    "        value = v\n",
    "        country = k\n",
    "print(country,value)"
   ]
  },
  {
   "cell_type": "raw",
   "metadata": {
    "colab_type": "text",
    "id": "lGrRhr22uan4",
    "outputExpanded": false
   },
   "source": [
    "Canada won the most medal points in the 2014 Winter Olympic.\n",
    "Answer: I first filtered all the medalists that participated the 2014 Winter Game and created a table called winter_olympics. Based on this table, I calculate the medal points each country got and stored them in a dictionary. At last, I get the winner is CAN, which represents 'Canada'."
   ]
  },
  {
   "cell_type": "markdown",
   "metadata": {
    "colab_type": "text",
    "id": "l8k4nqgfeFJb",
    "outputExpanded": false
   },
   "source": [
    "### 20 pt: For each year in which games were held, what proportion of gold medals did the host country win? \n",
    "You will need to combine multiple datasets to complete the analysis.  "
   ]
  },
  {
   "cell_type": "code",
   "execution_count": 574,
   "metadata": {},
   "outputs": [],
   "source": [
    "# host country for each game of each year\n",
    "url = 'https://en.wikipedia.org/wiki/List_of_Olympic_Games_host_cities'\n",
    "host_cities = pd.read_html(url,header=0)\n",
    "countries = host_cities[3]\n",
    "\n",
    "# deal with the data format of the year list\n",
    "winter_olympics = {}\n",
    "summer_olympics = {}\n",
    "for c in range(len(countries['Winter Olympics'])):\n",
    "    country_name = countries.loc[c].Country\n",
    "    w_one = countries['Winter Olympics'][c].split('(',2)[-1]\n",
    "    w_two = w_one.split(')',2)[0]\n",
    "    w_year_list = w_two.split(',')\n",
    "    winter_olympics[country_name] = w_year_list\n",
    "    \n",
    "    s_one = countries['Summer Olympics'][c].split('(',2)[-1]\n",
    "    s_two = s_one.split(')',2)[0]\n",
    "    s_year_list = s_two.split(',')\n",
    "    summer_olympics[country_name] = s_year_list"
   ]
  },
  {
   "cell_type": "raw",
   "metadata": {},
   "source": [
    "Explain: I used the table - List of Olympic Game host countries to format two dictionaries where stored the name of host countries and the year when they hosted the game respectively for summer game and winter game. "
   ]
  },
  {
   "cell_type": "code",
   "execution_count": 577,
   "metadata": {
    "colab": {},
    "colab_type": "code",
    "id": "zOlDIr9zt81i",
    "outputExpanded": false
   },
   "outputs": [
    {
     "name": "stdout",
     "output_type": "stream",
     "text": [
      "France 0.10945273631840796\n",
      "France 0.08996539792387544\n",
      "France 0.04807692307692308\n",
      "France 0.018518518518518517\n",
      "France 0.017045454545454544\n",
      "China 0.10730253353204174\n",
      "China 0.0\n",
      "Sweden 0.29141104294478526\n",
      "Australia 0.09271523178807947\n",
      "Australia 0.028481012658227847\n",
      "Australia 0.08748114630467571\n",
      "Australia 0.05263157894736842\n",
      "Soviet Union/ Russia 0.0\n",
      "South Korea 0.05384615384615385\n",
      "South Korea 0.012072434607645875\n",
      "Italy 0.11650485436893204\n",
      "Italy 0.022277227722772276\n",
      "Spain 0.08586762075134168\n",
      "Spain 0.0\n",
      "Norway 0.15555555555555556\n",
      "United States 0.37572254335260113\n",
      "United States 0.2925764192139738\n",
      "United States 0.3285198555956679\n",
      "United States 0.17319277108433734\n",
      "Brazil 0.05112781954887218\n",
      "Belgium 0.10953346855983773\n",
      "Canada 0.0\n",
      "Canada 0.003205128205128205\n",
      "Canada 0.0032679738562091504\n",
      "Canada 0.3620689655172414\n",
      "Soviet Union/ Russia 0.0\n",
      "Soviet Union/ Russia 0.0\n",
      "Netherlands 0.08163265306122448\n",
      "Netherlands 0.0\n",
      "United Kingdom 0.0\n",
      "Mexico 0.008356545961002786\n",
      "Mexico 0.0\n",
      "Mexico 0.0\n",
      "Austria 0.04918032786885246\n",
      "Austria 0.045454545454545456\n",
      "Austria 0.041666666666666664\n",
      "Austria 0.020689655172413793\n",
      "Switzerland 0.0\n",
      "Greece 0.16129032258064516\n",
      "SFR Yugoslavia/ Bosnia and Herzegovina 0.0\n",
      "German Empire/ Nazi Germany/ West Germany/ Germany 0.0\n",
      "France 0.0\n",
      "France 0.0\n",
      "France 0.04878048780487805\n",
      "Canada 0.0\n",
      "United States 0.125\n"
     ]
    }
   ],
   "source": [
    "# filter all medalists that won the goal medals\n",
    "gold = athlete_events[athlete_events['Medal'] == 'Gold']\n",
    "games = gold.Games.unique()\n",
    "\n",
    "# for each game\n",
    "for i in games:\n",
    "    one_game = gold[gold['Games'] == i]\n",
    "    # we have known the host city, what the host country was?\n",
    "    city = one_game.City.unique()[0]\n",
    "    year = one_game.Year.unique()[0]\n",
    "    season = one_game.Season.unique()[0]\n",
    "    if season == 'Winter':\n",
    "        for k,v in winter_olympics.items():\n",
    "            for n in v:\n",
    "                if n == str(year):\n",
    "                    country = k\n",
    "                    \n",
    "    if season == 'Summer':\n",
    "        for k,v in summer_olympics.items():\n",
    "            for n in v:\n",
    "                if n == str(year):\n",
    "                    country = k\n",
    "                                   \n",
    "    # how many gold medals in one year's winter/summer game?\n",
    "    gold_sum = len(one_game)\n",
    "    \n",
    "    # how many gold medals the host country won?\n",
    "    number = len(one_game[one_game['Team']==country])\n",
    " \n",
    "    # what proportion of gold medals did the host country win?\n",
    "    portion = number/gold_sum\n",
    "    print(country, portion)\n",
    "      "
   ]
  },
  {
   "cell_type": "raw",
   "metadata": {},
   "source": [
    "Explain: Because in the athletes table, there is no host country. I used the two dictionaries I create to determine the host country for each game. For each game, I then calculated how many gold medals in one year's winter/summer game? how many gold medals the host country won? At last, I got the result about what proportion of gold medals did the host country win."
   ]
  },
  {
   "cell_type": "markdown",
   "metadata": {
    "colab_type": "text",
    "id": "R9dYAutxubGJ",
    "outputExpanded": false
   },
   "source": [
    "(Use this space to explain your answers)"
   ]
  },
  {
   "cell_type": "markdown",
   "metadata": {
    "outputExpanded": false
   },
   "source": [
    "## Please submit your completed notebook in .IPYNB and .HTML formats via Canvas"
   ]
  },
  {
   "cell_type": "code",
   "execution_count": null,
   "metadata": {
    "outputExpanded": false
   },
   "outputs": [],
   "source": []
  }
 ],
 "metadata": {
  "colab": {
   "collapsed_sections": [],
   "name": "618_HW1.ipynb",
   "provenance": [],
   "version": "0.3.2"
  },
  "kernel_info": {
   "name": "python3"
  },
  "kernelspec": {
   "display_name": "Python 3",
   "language": "python",
   "name": "python3"
  },
  "language_info": {
   "codemirror_mode": {
    "name": "ipython",
    "version": 3
   },
   "file_extension": ".py",
   "mimetype": "text/x-python",
   "name": "python",
   "nbconvert_exporter": "python",
   "pygments_lexer": "ipython3",
   "version": "3.6.5"
  }
 },
 "nbformat": 4,
 "nbformat_minor": 2
}
